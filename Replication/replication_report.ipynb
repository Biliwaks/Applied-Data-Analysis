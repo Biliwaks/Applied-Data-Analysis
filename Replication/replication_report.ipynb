{
 "cells": [
  {
   "cell_type": "markdown",
   "metadata": {},
   "source": [
    "# Signed Networks - Replication"
   ]
  },
  {
   "cell_type": "markdown",
   "metadata": {},
   "source": [
    "The subject of this work will be to try to replicate **Table 1** and **Table 3** from the paper \"Signed Networks in Social Media\" from Jure Leskovec, Daniel Huttenlocher and Jon Kleinberg.\n",
    "\n",
    "Authors paper: https://cs.stanford.edu/people/jure/pubs/triads-chi10.pdf <br>\n",
    "Datasets: https://snap.stanford.edu/data/index.html"
   ]
  },
  {
   "cell_type": "markdown",
   "metadata": {},
   "source": [
    "This notebook is organised as follow:\n",
    "- [Data parsing](#Data_parsing)\n",
    "\n",
    "- [Table 1](#table1)\n",
    "    - [Replication results](#Replication_results1)\n",
    "    - [Additional research](#Additional_research1)\n",
    "\n",
    "- [Table 3](#table3)\n",
    "    - [Replication results](#Replication_results3)\n",
    "    - [Discussion](#Discussion)"
   ]
  },
  {
   "cell_type": "code",
   "execution_count": 1,
   "metadata": {},
   "outputs": [],
   "source": [
    "# Imports and settings\n",
    "import pandas as pd \n",
    "import networkx as nx\n",
    "import numpy as np\n",
    "import time\n",
    "import matplotlib.pyplot as plt\n",
    "from itertools import permutations\n",
    "from IPython.display import display, HTML\n",
    "\n",
    "# Display dataframes next to each other (doesn't work on git)\n",
    "#CSS = \"\"\"\n",
    "#.output {\n",
    "#    flex-direction: row;\n",
    "#}\n",
    "#\"\"\"\n",
    "#display(HTML('<style>{}</style>'.format(CSS)))"
   ]
  },
  {
   "cell_type": "markdown",
   "metadata": {},
   "source": [
    "## Data Parsing <a id='Data_parsing'></a>"
   ]
  },
  {
   "cell_type": "markdown",
   "metadata": {},
   "source": [
    "In this part, we will organise the datasets such that there are structured the same way. "
   ]
  },
  {
   "cell_type": "code",
   "execution_count": 2,
   "metadata": {},
   "outputs": [],
   "source": [
    "# Data reading\n",
    "data_folder = \"Signed_Networks_Data/\"\n",
    "\n",
    "epinions = pd.read_table(data_folder + 'soc-sign-epinions.txt', \n",
    "                         names=['From node','To node','Weight'],comment='#',header=None).rename_axis('Epinions',axis=1)\n",
    "slashdot = pd.read_table(data_folder + 'soc-sign-Slashdot090221.txt', \n",
    "                         names=['From node','To node','Weight'],comment='#',header=None).rename_axis('Slashdot',axis=1)\n",
    "wikielec = pd.read_table(data_folder + 'wikiElec.ElecBs3.txt',\n",
    "                         names=['Data format','A','B','C','D'],comment='#',header=None,\n",
    "                         encoding = \"ISO-8859-1\").rename_axis('Wikipedia',axis=1)"
   ]
  },
  {
   "cell_type": "markdown",
   "metadata": {},
   "source": [
    "Even though Wikipedia's dataset doesn't look like a usual table that we could automatically parse with `pandas`, it is still tab seperated and missing values can be replaced by \"NaN\" if the names of the columns are specified.\n",
    "We also need a sepcial encoding `ISO-8859-1` to be able to read the data. We also name columns by default `A`, `B`, `C`, `D` as they don't represent one, but multiple types of data given by column `Data format`."
   ]
  },
  {
   "cell_type": "code",
   "execution_count": 3,
   "metadata": {},
   "outputs": [
    {
     "data": {
      "text/html": [
       "<div>\n",
       "<style scoped>\n",
       "    .dataframe tbody tr th:only-of-type {\n",
       "        vertical-align: middle;\n",
       "    }\n",
       "\n",
       "    .dataframe tbody tr th {\n",
       "        vertical-align: top;\n",
       "    }\n",
       "\n",
       "    .dataframe thead th {\n",
       "        text-align: right;\n",
       "    }\n",
       "</style>\n",
       "<table border=\"1\" class=\"dataframe\">\n",
       "  <thead>\n",
       "    <tr style=\"text-align: right;\">\n",
       "      <th>Wikipedia</th>\n",
       "      <th>Data format</th>\n",
       "      <th>A</th>\n",
       "      <th>B</th>\n",
       "      <th>C</th>\n",
       "      <th>D</th>\n",
       "    </tr>\n",
       "  </thead>\n",
       "  <tbody>\n",
       "    <tr>\n",
       "      <th>0</th>\n",
       "      <td>E</td>\n",
       "      <td>1</td>\n",
       "      <td>NaN</td>\n",
       "      <td>NaN</td>\n",
       "      <td>NaN</td>\n",
       "    </tr>\n",
       "    <tr>\n",
       "      <th>1</th>\n",
       "      <td>T</td>\n",
       "      <td>2004-09-21 01:15:53</td>\n",
       "      <td>NaN</td>\n",
       "      <td>NaN</td>\n",
       "      <td>NaN</td>\n",
       "    </tr>\n",
       "    <tr>\n",
       "      <th>2</th>\n",
       "      <td>U</td>\n",
       "      <td>30</td>\n",
       "      <td>cjcurrie</td>\n",
       "      <td>NaN</td>\n",
       "      <td>NaN</td>\n",
       "    </tr>\n",
       "    <tr>\n",
       "      <th>3</th>\n",
       "      <td>N</td>\n",
       "      <td>32</td>\n",
       "      <td>andyl</td>\n",
       "      <td>NaN</td>\n",
       "      <td>NaN</td>\n",
       "    </tr>\n",
       "    <tr>\n",
       "      <th>4</th>\n",
       "      <td>V</td>\n",
       "      <td>1</td>\n",
       "      <td>3</td>\n",
       "      <td>2004-09-14 16:26:00</td>\n",
       "      <td>ludraman</td>\n",
       "    </tr>\n",
       "  </tbody>\n",
       "</table>\n",
       "</div>"
      ],
      "text/plain": [
       "Wikipedia Data format                    A         B                    C  \\\n",
       "0                   E                    1       NaN                  NaN   \n",
       "1                   T  2004-09-21 01:15:53       NaN                  NaN   \n",
       "2                   U                   30  cjcurrie                  NaN   \n",
       "3                   N                   32     andyl                  NaN   \n",
       "4                   V                    1         3  2004-09-14 16:26:00   \n",
       "\n",
       "Wikipedia         D  \n",
       "0               NaN  \n",
       "1               NaN  \n",
       "2               NaN  \n",
       "3               NaN  \n",
       "4          ludraman  "
      ]
     },
     "metadata": {},
     "output_type": "display_data"
    }
   ],
   "source": [
    "display(wikielec.head())"
   ]
  },
  {
   "cell_type": "markdown",
   "metadata": {},
   "source": [
    "For the replicaiton of the **Table 1** of the paper, we only need: \n",
    "- Source nodes (from nodes)\n",
    "- Destination nodes (to nodes)\n",
    "- Weights\n",
    "\n",
    "So, in `wikielec` we can remove column C which contains times at which users voted, as well as column D which contains usernames of voters (redundant with user Id). We can also remove rows with `Data format` of `E`, `T`, and `N` which don't provide useful information either. The `epinions` and `slashdot` datasets provide just what we need and their reading with pandas is straightforward."
   ]
  },
  {
   "cell_type": "code",
   "execution_count": 4,
   "metadata": {},
   "outputs": [
    {
     "data": {
      "text/html": [
       "<div>\n",
       "<style scoped>\n",
       "    .dataframe tbody tr th:only-of-type {\n",
       "        vertical-align: middle;\n",
       "    }\n",
       "\n",
       "    .dataframe tbody tr th {\n",
       "        vertical-align: top;\n",
       "    }\n",
       "\n",
       "    .dataframe thead th {\n",
       "        text-align: right;\n",
       "    }\n",
       "</style>\n",
       "<table border=\"1\" class=\"dataframe\">\n",
       "  <thead>\n",
       "    <tr style=\"text-align: right;\">\n",
       "      <th>Wikipedia</th>\n",
       "      <th>Data format</th>\n",
       "      <th>A</th>\n",
       "      <th>B</th>\n",
       "    </tr>\n",
       "  </thead>\n",
       "  <tbody>\n",
       "    <tr>\n",
       "      <th>0</th>\n",
       "      <td>U</td>\n",
       "      <td>30</td>\n",
       "      <td>cjcurrie</td>\n",
       "    </tr>\n",
       "    <tr>\n",
       "      <th>1</th>\n",
       "      <td>V</td>\n",
       "      <td>1</td>\n",
       "      <td>3</td>\n",
       "    </tr>\n",
       "    <tr>\n",
       "      <th>2</th>\n",
       "      <td>V</td>\n",
       "      <td>-1</td>\n",
       "      <td>25</td>\n",
       "    </tr>\n",
       "    <tr>\n",
       "      <th>3</th>\n",
       "      <td>V</td>\n",
       "      <td>1</td>\n",
       "      <td>4</td>\n",
       "    </tr>\n",
       "    <tr>\n",
       "      <th>4</th>\n",
       "      <td>V</td>\n",
       "      <td>1</td>\n",
       "      <td>5</td>\n",
       "    </tr>\n",
       "  </tbody>\n",
       "</table>\n",
       "</div>"
      ],
      "text/plain": [
       "Wikipedia Data format   A         B\n",
       "0                   U  30  cjcurrie\n",
       "1                   V   1         3\n",
       "2                   V  -1        25\n",
       "3                   V   1         4\n",
       "4                   V   1         5"
      ]
     },
     "metadata": {},
     "output_type": "display_data"
    }
   ],
   "source": [
    "# WikiElec restructuring: we remove all rows with E,N and T data format and drop C and D columns\n",
    "# Column A has destination node when data format is U and weight when data format is V\n",
    "# Column B has username when data format is U and source node when data format is V\n",
    "wikielec = wikielec[wikielec['Data format'] != 'E']\n",
    "wikielec = wikielec[wikielec['Data format'] != 'N']\n",
    "wikielec = wikielec[wikielec['Data format'] != 'T']\n",
    "wikielec.drop(['C','D'],axis=1,inplace=True)\n",
    "wikielec.reset_index(inplace=True,drop=True)\n",
    "\n",
    "display(wikielec.head())"
   ]
  },
  {
   "cell_type": "markdown",
   "metadata": {},
   "source": [
    "Now that `wikielec` provides only what we need, we can organize the data such that all three of the datasets are strucutred in the same way: "
   ]
  },
  {
   "cell_type": "code",
   "execution_count": 5,
   "metadata": {},
   "outputs": [],
   "source": [
    "# Structure like Epinions and Slashdot: rows of [from_node,to_node,weight]\n",
    "data = []\n",
    "for idx in wikielec.index:\n",
    "    # When data format is 'U', we update the destination node and continue\n",
    "    if wikielec['Data format'][idx] == 'U':\n",
    "        to_node = int(wikielec['A'][idx])\n",
    "        continue\n",
    "    \n",
    "    # When data format is 'V', we can append [from_node,to_node,weight]\n",
    "    from_node = int(wikielec['B'][idx])\n",
    "    weight    = int(wikielec['A'][idx])\n",
    "    if weight != 0:\n",
    "        data.append([from_node,to_node,weight])\n",
    "    \n",
    "wikielec = pd.DataFrame(data=np.array(data),columns=epinions.columns).rename_axis('Wikipedia',axis=1)"
   ]
  },
  {
   "cell_type": "code",
   "execution_count": 6,
   "metadata": {},
   "outputs": [
    {
     "data": {
      "text/html": [
       "<div>\n",
       "<style scoped>\n",
       "    .dataframe tbody tr th:only-of-type {\n",
       "        vertical-align: middle;\n",
       "    }\n",
       "\n",
       "    .dataframe tbody tr th {\n",
       "        vertical-align: top;\n",
       "    }\n",
       "\n",
       "    .dataframe thead th {\n",
       "        text-align: right;\n",
       "    }\n",
       "</style>\n",
       "<table border=\"1\" class=\"dataframe\">\n",
       "  <thead>\n",
       "    <tr style=\"text-align: right;\">\n",
       "      <th>Epinions</th>\n",
       "      <th>From node</th>\n",
       "      <th>To node</th>\n",
       "      <th>Weight</th>\n",
       "    </tr>\n",
       "  </thead>\n",
       "  <tbody>\n",
       "    <tr>\n",
       "      <th>0</th>\n",
       "      <td>0</td>\n",
       "      <td>1</td>\n",
       "      <td>-1</td>\n",
       "    </tr>\n",
       "    <tr>\n",
       "      <th>1</th>\n",
       "      <td>1</td>\n",
       "      <td>128552</td>\n",
       "      <td>-1</td>\n",
       "    </tr>\n",
       "    <tr>\n",
       "      <th>2</th>\n",
       "      <td>2</td>\n",
       "      <td>3</td>\n",
       "      <td>1</td>\n",
       "    </tr>\n",
       "    <tr>\n",
       "      <th>3</th>\n",
       "      <td>4</td>\n",
       "      <td>5</td>\n",
       "      <td>-1</td>\n",
       "    </tr>\n",
       "    <tr>\n",
       "      <th>4</th>\n",
       "      <td>4</td>\n",
       "      <td>155</td>\n",
       "      <td>-1</td>\n",
       "    </tr>\n",
       "  </tbody>\n",
       "</table>\n",
       "</div>"
      ],
      "text/plain": [
       "Epinions  From node  To node  Weight\n",
       "0                 0        1      -1\n",
       "1                 1   128552      -1\n",
       "2                 2        3       1\n",
       "3                 4        5      -1\n",
       "4                 4      155      -1"
      ]
     },
     "metadata": {},
     "output_type": "display_data"
    },
    {
     "data": {
      "text/html": [
       "<div>\n",
       "<style scoped>\n",
       "    .dataframe tbody tr th:only-of-type {\n",
       "        vertical-align: middle;\n",
       "    }\n",
       "\n",
       "    .dataframe tbody tr th {\n",
       "        vertical-align: top;\n",
       "    }\n",
       "\n",
       "    .dataframe thead th {\n",
       "        text-align: right;\n",
       "    }\n",
       "</style>\n",
       "<table border=\"1\" class=\"dataframe\">\n",
       "  <thead>\n",
       "    <tr style=\"text-align: right;\">\n",
       "      <th>Slashdot</th>\n",
       "      <th>From node</th>\n",
       "      <th>To node</th>\n",
       "      <th>Weight</th>\n",
       "    </tr>\n",
       "  </thead>\n",
       "  <tbody>\n",
       "    <tr>\n",
       "      <th>0</th>\n",
       "      <td>0</td>\n",
       "      <td>1</td>\n",
       "      <td>1</td>\n",
       "    </tr>\n",
       "    <tr>\n",
       "      <th>1</th>\n",
       "      <td>0</td>\n",
       "      <td>2</td>\n",
       "      <td>1</td>\n",
       "    </tr>\n",
       "    <tr>\n",
       "      <th>2</th>\n",
       "      <td>0</td>\n",
       "      <td>3</td>\n",
       "      <td>1</td>\n",
       "    </tr>\n",
       "    <tr>\n",
       "      <th>3</th>\n",
       "      <td>0</td>\n",
       "      <td>4</td>\n",
       "      <td>1</td>\n",
       "    </tr>\n",
       "    <tr>\n",
       "      <th>4</th>\n",
       "      <td>0</td>\n",
       "      <td>5</td>\n",
       "      <td>1</td>\n",
       "    </tr>\n",
       "  </tbody>\n",
       "</table>\n",
       "</div>"
      ],
      "text/plain": [
       "Slashdot  From node  To node  Weight\n",
       "0                 0        1       1\n",
       "1                 0        2       1\n",
       "2                 0        3       1\n",
       "3                 0        4       1\n",
       "4                 0        5       1"
      ]
     },
     "metadata": {},
     "output_type": "display_data"
    },
    {
     "data": {
      "text/html": [
       "<div>\n",
       "<style scoped>\n",
       "    .dataframe tbody tr th:only-of-type {\n",
       "        vertical-align: middle;\n",
       "    }\n",
       "\n",
       "    .dataframe tbody tr th {\n",
       "        vertical-align: top;\n",
       "    }\n",
       "\n",
       "    .dataframe thead th {\n",
       "        text-align: right;\n",
       "    }\n",
       "</style>\n",
       "<table border=\"1\" class=\"dataframe\">\n",
       "  <thead>\n",
       "    <tr style=\"text-align: right;\">\n",
       "      <th>Wikipedia</th>\n",
       "      <th>From node</th>\n",
       "      <th>To node</th>\n",
       "      <th>Weight</th>\n",
       "    </tr>\n",
       "  </thead>\n",
       "  <tbody>\n",
       "    <tr>\n",
       "      <th>0</th>\n",
       "      <td>3</td>\n",
       "      <td>30</td>\n",
       "      <td>1</td>\n",
       "    </tr>\n",
       "    <tr>\n",
       "      <th>1</th>\n",
       "      <td>25</td>\n",
       "      <td>30</td>\n",
       "      <td>-1</td>\n",
       "    </tr>\n",
       "    <tr>\n",
       "      <th>2</th>\n",
       "      <td>4</td>\n",
       "      <td>30</td>\n",
       "      <td>1</td>\n",
       "    </tr>\n",
       "    <tr>\n",
       "      <th>3</th>\n",
       "      <td>5</td>\n",
       "      <td>30</td>\n",
       "      <td>1</td>\n",
       "    </tr>\n",
       "    <tr>\n",
       "      <th>4</th>\n",
       "      <td>6</td>\n",
       "      <td>30</td>\n",
       "      <td>1</td>\n",
       "    </tr>\n",
       "  </tbody>\n",
       "</table>\n",
       "</div>"
      ],
      "text/plain": [
       "Wikipedia  From node  To node  Weight\n",
       "0                  3       30       1\n",
       "1                 25       30      -1\n",
       "2                  4       30       1\n",
       "3                  5       30       1\n",
       "4                  6       30       1"
      ]
     },
     "metadata": {},
     "output_type": "display_data"
    }
   ],
   "source": [
    "# Display of the same structures datasets\n",
    "display(epinions.head())\n",
    "display(slashdot.head())\n",
    "display(wikielec.head())"
   ]
  },
  {
   "cell_type": "markdown",
   "metadata": {},
   "source": [
    "Now that our dataframes are structured the same, we can process their statisitcs similarly. First let's check their duplicates:"
   ]
  },
  {
   "cell_type": "code",
   "execution_count": 7,
   "metadata": {
    "scrolled": true
   },
   "outputs": [
    {
     "name": "stdout",
     "output_type": "stream",
     "text": [
      "Number of duplicated edges (edges with same source and destination nodes)\n",
      "Epinions: 0\n",
      "Slashdot: 0\n",
      "Wikipedia: 3333\n"
     ]
    }
   ],
   "source": [
    "# Check for duplicates\n",
    "print(\"Number of duplicated edges (edges with same source and destination nodes)\")\n",
    "print(\"Epinions: %d\"%epinions[['From node','To node']].duplicated().sum())\n",
    "print(\"Slashdot: %d\"%slashdot[['From node','To node']].duplicated().sum())\n",
    "print(\"Wikipedia: %d\"%wikielec[['From node','To node']].duplicated().sum())"
   ]
  },
  {
   "cell_type": "markdown",
   "metadata": {},
   "source": [
    "We see that only Wikipedia's dataset have some duplicates. We will see later how this is handled."
   ]
  },
  {
   "cell_type": "markdown",
   "metadata": {},
   "source": [
    "## Table 1 <a id='table1'></a>"
   ]
  },
  {
   "cell_type": "markdown",
   "metadata": {},
   "source": [
    "Before we start, we can aslo build a constant table for table 1 of the paper as well as global table for the results we will find. We will then be able to compare the results more easily."
   ]
  },
  {
   "cell_type": "code",
   "execution_count": 8,
   "metadata": {
    "scrolled": true
   },
   "outputs": [
    {
     "data": {
      "text/html": [
       "<div>\n",
       "<style scoped>\n",
       "    .dataframe tbody tr th:only-of-type {\n",
       "        vertical-align: middle;\n",
       "    }\n",
       "\n",
       "    .dataframe tbody tr th {\n",
       "        vertical-align: top;\n",
       "    }\n",
       "\n",
       "    .dataframe thead th {\n",
       "        text-align: right;\n",
       "    }\n",
       "</style>\n",
       "<table border=\"1\" class=\"dataframe\">\n",
       "  <thead>\n",
       "    <tr style=\"text-align: right;\">\n",
       "      <th>Paper results - Table 1</th>\n",
       "      <th>Epinions</th>\n",
       "      <th>Slashdot</th>\n",
       "      <th>Wikipedia</th>\n",
       "    </tr>\n",
       "  </thead>\n",
       "  <tbody>\n",
       "    <tr>\n",
       "      <th>Nodes</th>\n",
       "      <td>119,217</td>\n",
       "      <td>82,144</td>\n",
       "      <td>7,118</td>\n",
       "    </tr>\n",
       "    <tr>\n",
       "      <th>Edges</th>\n",
       "      <td>841,200</td>\n",
       "      <td>549,202</td>\n",
       "      <td>103,747</td>\n",
       "    </tr>\n",
       "    <tr>\n",
       "      <th>+ edges</th>\n",
       "      <td>85.0%</td>\n",
       "      <td>77.4%</td>\n",
       "      <td>78.7%</td>\n",
       "    </tr>\n",
       "    <tr>\n",
       "      <th>- edges</th>\n",
       "      <td>15.0%</td>\n",
       "      <td>22.6%</td>\n",
       "      <td>21.2%</td>\n",
       "    </tr>\n",
       "    <tr>\n",
       "      <th>Triads</th>\n",
       "      <td>13,375,407</td>\n",
       "      <td>1,508,105</td>\n",
       "      <td>790,532</td>\n",
       "    </tr>\n",
       "  </tbody>\n",
       "</table>\n",
       "</div>"
      ],
      "text/plain": [
       "Paper results - Table 1    Epinions   Slashdot Wikipedia\n",
       "Nodes                       119,217     82,144     7,118\n",
       "Edges                       841,200    549,202   103,747\n",
       "+ edges                       85.0%      77.4%     78.7%\n",
       "- edges                       15.0%      22.6%     21.2%\n",
       "Triads                   13,375,407  1,508,105   790,532"
      ]
     },
     "metadata": {},
     "output_type": "display_data"
    },
    {
     "data": {
      "text/html": [
       "<div>\n",
       "<style scoped>\n",
       "    .dataframe tbody tr th:only-of-type {\n",
       "        vertical-align: middle;\n",
       "    }\n",
       "\n",
       "    .dataframe tbody tr th {\n",
       "        vertical-align: top;\n",
       "    }\n",
       "\n",
       "    .dataframe thead th {\n",
       "        text-align: right;\n",
       "    }\n",
       "</style>\n",
       "<table border=\"1\" class=\"dataframe\">\n",
       "  <thead>\n",
       "    <tr style=\"text-align: right;\">\n",
       "      <th>Replication results - Table 1</th>\n",
       "      <th>Epinions</th>\n",
       "      <th>Slashdot</th>\n",
       "      <th>Wikipedia</th>\n",
       "    </tr>\n",
       "  </thead>\n",
       "  <tbody>\n",
       "    <tr>\n",
       "      <th>Nodes</th>\n",
       "      <td></td>\n",
       "      <td></td>\n",
       "      <td></td>\n",
       "    </tr>\n",
       "    <tr>\n",
       "      <th>Edges</th>\n",
       "      <td></td>\n",
       "      <td></td>\n",
       "      <td></td>\n",
       "    </tr>\n",
       "    <tr>\n",
       "      <th>+ edges</th>\n",
       "      <td></td>\n",
       "      <td></td>\n",
       "      <td></td>\n",
       "    </tr>\n",
       "    <tr>\n",
       "      <th>- edges</th>\n",
       "      <td></td>\n",
       "      <td></td>\n",
       "      <td></td>\n",
       "    </tr>\n",
       "    <tr>\n",
       "      <th>Triads</th>\n",
       "      <td></td>\n",
       "      <td></td>\n",
       "      <td></td>\n",
       "    </tr>\n",
       "  </tbody>\n",
       "</table>\n",
       "</div>"
      ],
      "text/plain": [
       "Replication results - Table 1 Epinions Slashdot Wikipedia\n",
       "Nodes                                                    \n",
       "Edges                                                    \n",
       "+ edges                                                  \n",
       "- edges                                                  \n",
       "Triads                                                   "
      ]
     },
     "metadata": {},
     "output_type": "display_data"
    }
   ],
   "source": [
    "# Constant dataframe for paper results\n",
    "PAPER_RESULTS_TABLE1 = pd.DataFrame(data =  [['119,217'   ,'82,144'   ,'7,118'  ],\n",
    "                                            ['841,200'   ,'549,202'  ,'103,747'],\n",
    "                                            ['85.0%'     ,'77.4%'    ,'78.7%'  ],\n",
    "                                            ['15.0%'     ,'22.6%'    ,'21.2%'  ],\n",
    "                                            ['13,375,407','1,508,105','790,532']],\n",
    "                                    index  =['Nodes','Edges','+ edges','- edges','Triads'],\n",
    "                                    columns=['Epinions','Slashdot','Wikipedia'])\\\n",
    "                                   .rename_axis('Paper results - Table 1',axis=1)\n",
    "\n",
    "# Global dataframe for replication results \n",
    "results_table1 = (PAPER_RESULTS_TABLE1*0).rename_axis('Replication results - Table 1',axis=1)\n",
    "\n",
    "display(PAPER_RESULTS_TABLE1)\n",
    "display(results_table1)"
   ]
  },
  {
   "cell_type": "markdown",
   "metadata": {},
   "source": [
    "### Replication results  <a id='Replication_results'></a>"
   ]
  },
  {
   "cell_type": "markdown",
   "metadata": {},
   "source": [
    "We will now try to fill in a replication table and compare it to the paper results. We start to implement the following reusable function:"
   ]
  },
  {
   "cell_type": "code",
   "execution_count": 9,
   "metadata": {},
   "outputs": [],
   "source": [
    "def fill_replication_results(dataframe):\n",
    "    \"\"\" Save number of nodes and edges, percentage of +1 and -1 weights\n",
    "        and number of undirected triangles of dataframe into results table \"\"\"\n",
    "   \n",
    "    global results_table1\n",
    "    \n",
    "    # Construct the graph of the dataframe\n",
    "    G = nx.DiGraph()\n",
    "    G.add_weighted_edges_from(map(tuple,dataframe.values))\n",
    "\n",
    "    # Number of nodes and edges\n",
    "    nb_nodes = G.number_of_nodes()\n",
    "    nb_edges = G.number_of_edges()\n",
    "    \n",
    "    # Proportion of + and - signs in dataset \n",
    "    # (not fastest way obviously but we want to stay consistent with networkx)\n",
    "    percent_plus_edges  = 100*len([(u,v,w) for (u,v,w) in G.edges(data='weight') if w== 1])/nb_edges\n",
    "    percent_minus_edges = 100*len([(u,v,w) for (u,v,w) in G.edges(data='weight') if w==-1])/nb_edges\n",
    "    \n",
    "    # Number of triangles in the undirected graph (lasts 40 secs with epinions)\n",
    "    G_undirected = G.to_undirected()\n",
    "    triangles    = nx.triangles(G_undirected)\n",
    "    nb_triangles = int(sum(triangles.values())/3)\n",
    "    \n",
    "    # Save results\n",
    "    results_table1[dataframe.columns.name] = [\"{:,}\"  .format(nb_nodes),\n",
    "                                       \"{:,}\"  .format(nb_edges),\n",
    "                                       \"{:.1f}\".format(percent_plus_edges)  + '%',\n",
    "                                       \"{:.1f}\".format(percent_minus_edges) + '%',\n",
    "                                       \"{:,}\"  .format(nb_triangles)]\n",
    "                                      "
   ]
  },
  {
   "cell_type": "code",
   "execution_count": 10,
   "metadata": {},
   "outputs": [
    {
     "data": {
      "text/html": [
       "<div>\n",
       "<style scoped>\n",
       "    .dataframe tbody tr th:only-of-type {\n",
       "        vertical-align: middle;\n",
       "    }\n",
       "\n",
       "    .dataframe tbody tr th {\n",
       "        vertical-align: top;\n",
       "    }\n",
       "\n",
       "    .dataframe thead th {\n",
       "        text-align: right;\n",
       "    }\n",
       "</style>\n",
       "<table border=\"1\" class=\"dataframe\">\n",
       "  <thead>\n",
       "    <tr style=\"text-align: right;\">\n",
       "      <th>Paper results - Table 1</th>\n",
       "      <th>Epinions</th>\n",
       "      <th>Slashdot</th>\n",
       "      <th>Wikipedia</th>\n",
       "    </tr>\n",
       "  </thead>\n",
       "  <tbody>\n",
       "    <tr>\n",
       "      <th>Nodes</th>\n",
       "      <td>119,217</td>\n",
       "      <td>82,144</td>\n",
       "      <td>7,118</td>\n",
       "    </tr>\n",
       "    <tr>\n",
       "      <th>Edges</th>\n",
       "      <td>841,200</td>\n",
       "      <td>549,202</td>\n",
       "      <td>103,747</td>\n",
       "    </tr>\n",
       "    <tr>\n",
       "      <th>+ edges</th>\n",
       "      <td>85.0%</td>\n",
       "      <td>77.4%</td>\n",
       "      <td>78.7%</td>\n",
       "    </tr>\n",
       "    <tr>\n",
       "      <th>- edges</th>\n",
       "      <td>15.0%</td>\n",
       "      <td>22.6%</td>\n",
       "      <td>21.2%</td>\n",
       "    </tr>\n",
       "    <tr>\n",
       "      <th>Triads</th>\n",
       "      <td>13,375,407</td>\n",
       "      <td>1,508,105</td>\n",
       "      <td>790,532</td>\n",
       "    </tr>\n",
       "  </tbody>\n",
       "</table>\n",
       "</div>"
      ],
      "text/plain": [
       "Paper results - Table 1    Epinions   Slashdot Wikipedia\n",
       "Nodes                       119,217     82,144     7,118\n",
       "Edges                       841,200    549,202   103,747\n",
       "+ edges                       85.0%      77.4%     78.7%\n",
       "- edges                       15.0%      22.6%     21.2%\n",
       "Triads                   13,375,407  1,508,105   790,532"
      ]
     },
     "metadata": {},
     "output_type": "display_data"
    },
    {
     "data": {
      "text/html": [
       "<div>\n",
       "<style scoped>\n",
       "    .dataframe tbody tr th:only-of-type {\n",
       "        vertical-align: middle;\n",
       "    }\n",
       "\n",
       "    .dataframe tbody tr th {\n",
       "        vertical-align: top;\n",
       "    }\n",
       "\n",
       "    .dataframe thead th {\n",
       "        text-align: right;\n",
       "    }\n",
       "</style>\n",
       "<table border=\"1\" class=\"dataframe\">\n",
       "  <thead>\n",
       "    <tr style=\"text-align: right;\">\n",
       "      <th>Replication results - Table 1</th>\n",
       "      <th>Epinions</th>\n",
       "      <th>Slashdot</th>\n",
       "      <th>Wikipedia</th>\n",
       "    </tr>\n",
       "  </thead>\n",
       "  <tbody>\n",
       "    <tr>\n",
       "      <th>Nodes</th>\n",
       "      <td>131,828</td>\n",
       "      <td></td>\n",
       "      <td></td>\n",
       "    </tr>\n",
       "    <tr>\n",
       "      <th>Edges</th>\n",
       "      <td>841,372</td>\n",
       "      <td></td>\n",
       "      <td></td>\n",
       "    </tr>\n",
       "    <tr>\n",
       "      <th>+ edges</th>\n",
       "      <td>85.3%</td>\n",
       "      <td></td>\n",
       "      <td></td>\n",
       "    </tr>\n",
       "    <tr>\n",
       "      <th>- edges</th>\n",
       "      <td>14.7%</td>\n",
       "      <td></td>\n",
       "      <td></td>\n",
       "    </tr>\n",
       "    <tr>\n",
       "      <th>Triads</th>\n",
       "      <td>4,910,076</td>\n",
       "      <td></td>\n",
       "      <td></td>\n",
       "    </tr>\n",
       "  </tbody>\n",
       "</table>\n",
       "</div>"
      ],
      "text/plain": [
       "Replication results - Table 1   Epinions Slashdot Wikipedia\n",
       "Nodes                            131,828                   \n",
       "Edges                            841,372                   \n",
       "+ edges                            85.3%                   \n",
       "- edges                            14.7%                   \n",
       "Triads                         4,910,076                   "
      ]
     },
     "metadata": {},
     "output_type": "display_data"
    }
   ],
   "source": [
    "# Epinions\n",
    "fill_replication_results(epinions)\n",
    "\n",
    "display(PAPER_RESULTS_TABLE1)\n",
    "display(results_table1)"
   ]
  },
  {
   "cell_type": "markdown",
   "metadata": {},
   "source": [
    "The first dataset that we are looking into is `epinions`. At first glance, we see that none of the values that we find are exactly the same as those in the paper. \n",
    "- A first possiblity is that we made a mistake in the calculation, but when using other techniques (like `numpy` or `pandas`), we still get the same results. Other techniques are shown in [Additional research](#Additional_research) part.\n",
    "- Another possibility is that the authors processed the data in some way that they didn't explicitly explained in the paper. In that case, there is not much that we can do.\n",
    "- A last possiblity is that the authors didn't use the same version of the dataset that we have. If we look at the provenance of the dataset and simply type \"Signed networks datasets\" on Google, we find the website of Stanford large network dataset collection [SNAP](https://snap.stanford.edu/data/). If we further look into the datasets that they offer, we find out that there are two datasets for epinions: [soc-Epinions1](https://snap.stanford.edu/data/soc-Epinions1.html) and [soc-sign-epinions](https://snap.stanford.edu/data/soc-sign-epinions.html). If we look at the second of them, we see that the stats of the dataset are exactly the same as those we have: 131,828 nodes and 841,372 edges. We see that we also have the same number of triangles calculated (4,910,076). We don't have the statistics for the percentage of positive and negative weights but we can fairly assume that these results are correct being given that they are very close to the paper results and that all other results are equal to those on the SNAP website.\n",
    "\n",
    "Note that the number of triads in the paper is a lot larger than the number of triads we calculated. Indeed, we calculate the number of triangles in the **undirected** graph of epinions, loosing information about nodes that have a pair of directed edges between them (reciprocal edges). It is not explicitly stated in the paper, but here again, we can fairly assume that the authors counted the number of triads in the **directed** graphs.\n",
    "\n",
    "Let's continue with the other datasets and compare the results:"
   ]
  },
  {
   "cell_type": "code",
   "execution_count": 11,
   "metadata": {},
   "outputs": [
    {
     "data": {
      "text/html": [
       "<div>\n",
       "<style scoped>\n",
       "    .dataframe tbody tr th:only-of-type {\n",
       "        vertical-align: middle;\n",
       "    }\n",
       "\n",
       "    .dataframe tbody tr th {\n",
       "        vertical-align: top;\n",
       "    }\n",
       "\n",
       "    .dataframe thead th {\n",
       "        text-align: right;\n",
       "    }\n",
       "</style>\n",
       "<table border=\"1\" class=\"dataframe\">\n",
       "  <thead>\n",
       "    <tr style=\"text-align: right;\">\n",
       "      <th>Paper results - Table 1</th>\n",
       "      <th>Epinions</th>\n",
       "      <th>Slashdot</th>\n",
       "      <th>Wikipedia</th>\n",
       "    </tr>\n",
       "  </thead>\n",
       "  <tbody>\n",
       "    <tr>\n",
       "      <th>Nodes</th>\n",
       "      <td>119,217</td>\n",
       "      <td>82,144</td>\n",
       "      <td>7,118</td>\n",
       "    </tr>\n",
       "    <tr>\n",
       "      <th>Edges</th>\n",
       "      <td>841,200</td>\n",
       "      <td>549,202</td>\n",
       "      <td>103,747</td>\n",
       "    </tr>\n",
       "    <tr>\n",
       "      <th>+ edges</th>\n",
       "      <td>85.0%</td>\n",
       "      <td>77.4%</td>\n",
       "      <td>78.7%</td>\n",
       "    </tr>\n",
       "    <tr>\n",
       "      <th>- edges</th>\n",
       "      <td>15.0%</td>\n",
       "      <td>22.6%</td>\n",
       "      <td>21.2%</td>\n",
       "    </tr>\n",
       "    <tr>\n",
       "      <th>Triads</th>\n",
       "      <td>13,375,407</td>\n",
       "      <td>1,508,105</td>\n",
       "      <td>790,532</td>\n",
       "    </tr>\n",
       "  </tbody>\n",
       "</table>\n",
       "</div>"
      ],
      "text/plain": [
       "Paper results - Table 1    Epinions   Slashdot Wikipedia\n",
       "Nodes                       119,217     82,144     7,118\n",
       "Edges                       841,200    549,202   103,747\n",
       "+ edges                       85.0%      77.4%     78.7%\n",
       "- edges                       15.0%      22.6%     21.2%\n",
       "Triads                   13,375,407  1,508,105   790,532"
      ]
     },
     "metadata": {},
     "output_type": "display_data"
    },
    {
     "data": {
      "text/html": [
       "<div>\n",
       "<style scoped>\n",
       "    .dataframe tbody tr th:only-of-type {\n",
       "        vertical-align: middle;\n",
       "    }\n",
       "\n",
       "    .dataframe tbody tr th {\n",
       "        vertical-align: top;\n",
       "    }\n",
       "\n",
       "    .dataframe thead th {\n",
       "        text-align: right;\n",
       "    }\n",
       "</style>\n",
       "<table border=\"1\" class=\"dataframe\">\n",
       "  <thead>\n",
       "    <tr style=\"text-align: right;\">\n",
       "      <th>Replication results - Table 1</th>\n",
       "      <th>Epinions</th>\n",
       "      <th>Slashdot</th>\n",
       "      <th>Wikipedia</th>\n",
       "    </tr>\n",
       "  </thead>\n",
       "  <tbody>\n",
       "    <tr>\n",
       "      <th>Nodes</th>\n",
       "      <td>131,828</td>\n",
       "      <td>82,140</td>\n",
       "      <td></td>\n",
       "    </tr>\n",
       "    <tr>\n",
       "      <th>Edges</th>\n",
       "      <td>841,372</td>\n",
       "      <td>549,202</td>\n",
       "      <td></td>\n",
       "    </tr>\n",
       "    <tr>\n",
       "      <th>+ edges</th>\n",
       "      <td>85.3%</td>\n",
       "      <td>77.4%</td>\n",
       "      <td></td>\n",
       "    </tr>\n",
       "    <tr>\n",
       "      <th>- edges</th>\n",
       "      <td>14.7%</td>\n",
       "      <td>22.6%</td>\n",
       "      <td></td>\n",
       "    </tr>\n",
       "    <tr>\n",
       "      <th>Triads</th>\n",
       "      <td>4,910,076</td>\n",
       "      <td>579,565</td>\n",
       "      <td></td>\n",
       "    </tr>\n",
       "  </tbody>\n",
       "</table>\n",
       "</div>"
      ],
      "text/plain": [
       "Replication results - Table 1   Epinions Slashdot Wikipedia\n",
       "Nodes                            131,828   82,140          \n",
       "Edges                            841,372  549,202          \n",
       "+ edges                            85.3%    77.4%          \n",
       "- edges                            14.7%    22.6%          \n",
       "Triads                         4,910,076  579,565          "
      ]
     },
     "metadata": {},
     "output_type": "display_data"
    }
   ],
   "source": [
    "# Slashdot\n",
    "fill_replication_results(slashdot)\n",
    "\n",
    "display(PAPER_RESULTS_TABLE1)\n",
    "display(results_table1)"
   ]
  },
  {
   "cell_type": "markdown",
   "metadata": {},
   "source": [
    "Using the same function `fill_replication_results`, we calculate the statistics for `slashdot` dataset. We see that every statistic corresponds perfectly except for the number of nodes (paper has 4 more than replication) and the number of triangles. Here again we can refer to [SNAP](https://snap.stanford.edu/data/) and look for Snapshot datasets. We can find several of them but we are especially interested in this one: [soc-sign-Slashdot090221](https://snap.stanford.edu/data/soc-sign-Slashdot090221.html) (which has the same name as the one we have. Here again we see that we found the same results as those on this webpage (82,140 nodes, 579,565 triangles etc...). Note that on [SNAP](https://snap.stanford.edu/data/) webpage which summarises all datasets, we can see that there are 82,144 nodes in the summary description of our dataset which might be the source of confusion.\n",
    "\n",
    "We still have a large difference in the number of triads between the paper and the replication results because of the same reason that we stated above.\n",
    "\n",
    "Let's now finish with the last `wikielec` dataset: "
   ]
  },
  {
   "cell_type": "code",
   "execution_count": 12,
   "metadata": {
    "scrolled": true
   },
   "outputs": [
    {
     "data": {
      "text/html": [
       "<div>\n",
       "<style scoped>\n",
       "    .dataframe tbody tr th:only-of-type {\n",
       "        vertical-align: middle;\n",
       "    }\n",
       "\n",
       "    .dataframe tbody tr th {\n",
       "        vertical-align: top;\n",
       "    }\n",
       "\n",
       "    .dataframe thead th {\n",
       "        text-align: right;\n",
       "    }\n",
       "</style>\n",
       "<table border=\"1\" class=\"dataframe\">\n",
       "  <thead>\n",
       "    <tr style=\"text-align: right;\">\n",
       "      <th>Paper results - Table 1</th>\n",
       "      <th>Epinions</th>\n",
       "      <th>Slashdot</th>\n",
       "      <th>Wikipedia</th>\n",
       "    </tr>\n",
       "  </thead>\n",
       "  <tbody>\n",
       "    <tr>\n",
       "      <th>Nodes</th>\n",
       "      <td>119,217</td>\n",
       "      <td>82,144</td>\n",
       "      <td>7,118</td>\n",
       "    </tr>\n",
       "    <tr>\n",
       "      <th>Edges</th>\n",
       "      <td>841,200</td>\n",
       "      <td>549,202</td>\n",
       "      <td>103,747</td>\n",
       "    </tr>\n",
       "    <tr>\n",
       "      <th>+ edges</th>\n",
       "      <td>85.0%</td>\n",
       "      <td>77.4%</td>\n",
       "      <td>78.7%</td>\n",
       "    </tr>\n",
       "    <tr>\n",
       "      <th>- edges</th>\n",
       "      <td>15.0%</td>\n",
       "      <td>22.6%</td>\n",
       "      <td>21.2%</td>\n",
       "    </tr>\n",
       "    <tr>\n",
       "      <th>Triads</th>\n",
       "      <td>13,375,407</td>\n",
       "      <td>1,508,105</td>\n",
       "      <td>790,532</td>\n",
       "    </tr>\n",
       "  </tbody>\n",
       "</table>\n",
       "</div>"
      ],
      "text/plain": [
       "Paper results - Table 1    Epinions   Slashdot Wikipedia\n",
       "Nodes                       119,217     82,144     7,118\n",
       "Edges                       841,200    549,202   103,747\n",
       "+ edges                       85.0%      77.4%     78.7%\n",
       "- edges                       15.0%      22.6%     21.2%\n",
       "Triads                   13,375,407  1,508,105   790,532"
      ]
     },
     "metadata": {},
     "output_type": "display_data"
    },
    {
     "data": {
      "text/html": [
       "<div>\n",
       "<style scoped>\n",
       "    .dataframe tbody tr th:only-of-type {\n",
       "        vertical-align: middle;\n",
       "    }\n",
       "\n",
       "    .dataframe tbody tr th {\n",
       "        vertical-align: top;\n",
       "    }\n",
       "\n",
       "    .dataframe thead th {\n",
       "        text-align: right;\n",
       "    }\n",
       "</style>\n",
       "<table border=\"1\" class=\"dataframe\">\n",
       "  <thead>\n",
       "    <tr style=\"text-align: right;\">\n",
       "      <th>Replication results - Table 1</th>\n",
       "      <th>Epinions</th>\n",
       "      <th>Slashdot</th>\n",
       "      <th>Wikipedia</th>\n",
       "    </tr>\n",
       "  </thead>\n",
       "  <tbody>\n",
       "    <tr>\n",
       "      <th>Nodes</th>\n",
       "      <td>131,828</td>\n",
       "      <td>82,140</td>\n",
       "      <td>7,118</td>\n",
       "    </tr>\n",
       "    <tr>\n",
       "      <th>Edges</th>\n",
       "      <td>841,372</td>\n",
       "      <td>549,202</td>\n",
       "      <td>103,747</td>\n",
       "    </tr>\n",
       "    <tr>\n",
       "      <th>+ edges</th>\n",
       "      <td>85.3%</td>\n",
       "      <td>77.4%</td>\n",
       "      <td>78.8%</td>\n",
       "    </tr>\n",
       "    <tr>\n",
       "      <th>- edges</th>\n",
       "      <td>14.7%</td>\n",
       "      <td>22.6%</td>\n",
       "      <td>21.2%</td>\n",
       "    </tr>\n",
       "    <tr>\n",
       "      <th>Triads</th>\n",
       "      <td>4,910,076</td>\n",
       "      <td>579,565</td>\n",
       "      <td>608,389</td>\n",
       "    </tr>\n",
       "  </tbody>\n",
       "</table>\n",
       "</div>"
      ],
      "text/plain": [
       "Replication results - Table 1   Epinions Slashdot Wikipedia\n",
       "Nodes                            131,828   82,140     7,118\n",
       "Edges                            841,372  549,202   103,747\n",
       "+ edges                            85.3%    77.4%     78.8%\n",
       "- edges                            14.7%    22.6%     21.2%\n",
       "Triads                         4,910,076  579,565   608,389"
      ]
     },
     "metadata": {},
     "output_type": "display_data"
    }
   ],
   "source": [
    "# Wikipedia\n",
    "fill_replication_results(wikielec)\n",
    "\n",
    "display(PAPER_RESULTS_TABLE1)\n",
    "display(results_table1)"
   ]
  },
  {
   "cell_type": "markdown",
   "metadata": {},
   "source": [
    "For `wikielec` dataset, we also obtain the exact same results than in the paper except for the triangle (still same reason as above), and surprisingly for the percentage of positive signs which differs from 0.1%. \n",
    "- A first possibility to have this small difference could be that we made a mistake in our calculation of the percentages or in the format with which we show the results.\n",
    "- A second possibility is that the author rounded the results down. Indeed, the result of the positive percentage with 3 decimals place is 78.786%. If the author rounded it down (which would seems strange), the result to one decimal place would be 78.7 and our result would be (rounded to closest) 78.8%. But this would be plausible if all other percentages calculated were to be rounded down anyway (second decimal below 5). However, this is not the case because the percentage of positive edges in `slashdot` is 77.398%. So this hypothese is not really plausible.\n",
    "- A last possiblity would be that the results of the paper were filled in by hand and subjected to mistakes.\n",
    "\n",
    "We saw that Wikipedia's dataset had 3333 duplicates. But, we watched for duplicates of the directed edges only (source and destination nodes) and didn't take into account the weight of the duplicated edge. So if two duplicated edges have the same weight, it becomes a totally duplicated edge and it doesn't matter which one is chosen. But if two duplicated edges have different weights, what will then happen ? In the manner we calculate it with `networkx` (and because we use a directed graph and not a muti-directed graph), the **last** duplicated edge read in the table will overwrite the first duplicated edge when creating the directed graph."
   ]
  },
  {
   "cell_type": "code",
   "execution_count": 13,
   "metadata": {},
   "outputs": [
    {
     "name": "stdout",
     "output_type": "stream",
     "text": [
      "Wikipedia's number of duplicated edges (without weight): 3333\n",
      "Wikipedia's number of totally duplicated edges (with weight): 2721\n"
     ]
    }
   ],
   "source": [
    "print(\"Wikipedia's number of duplicated edges (without weight): %d\"%wikielec[['From node','To node']].duplicated().sum())\n",
    "print(\"Wikipedia's number of totally duplicated edges (with weight): %d\"%wikielec.duplicated().sum())"
   ]
  },
  {
   "cell_type": "markdown",
   "metadata": {},
   "source": [
    "There are 3333 duplicated edges (same source and destination nodes) among which 2721 edges are totally duplicated (same source and destination nodes **and** weight). So, there are $3333-2721=612$ edges with a duplicate of the opposite weight. So, only 612 edges out of 1224 will be chosen to be part of the graph. The percentage of positive and negative signs in the graph depends on which 612 edges are chosen and this is could be a reason why the replication doesn't lead to the same results as those in the papers. More explanations are shown in [Additional research](#wiki) part."
   ]
  },
  {
   "cell_type": "markdown",
   "metadata": {},
   "source": [
    "But even condisering the situation explained above, both the replication and the paper still have the same 21.2% of negatives signs, so how is it possible that the percentage of positives is different if it is simply the complementary percentage to get to a 100? It is not. Indeed, the sum of percentages in the paper is different from 100: $21.2 + 78.7 = 99.9 \\%$. And this is not because of the blank votes of 0 because there are 6960 of them which makes a percentage of: $$\\frac{6960}{103747 + 6960}=6\\%>>0.1\\%$$"
   ]
  },
  {
   "cell_type": "markdown",
   "metadata": {},
   "source": [
    "So the most probable hypotheses are either that the authors didn't round their results properly or that they made mistakes when filling the tables on the paper by hand."
   ]
  },
  {
   "cell_type": "markdown",
   "metadata": {},
   "source": [
    "#### Triads"
   ]
  },
  {
   "cell_type": "markdown",
   "metadata": {},
   "source": [
    "As we explained in the previous part, the number of triangles is calculated on the undirected graph of the datasets. This allowed us to compare another statistic with [SNAP](https://snap.stanford.edu/data/) website to argue as much as possible on the plausibility of our replication. But the values are too different from those of the paper and this is probably due to the fact that the authors of the paper also considered directed edges.\n",
    "\n",
    "We didn't find any fast and easy solutions to calculate triads in a directed graph on internet, so we decided to implement our own solution. Multiple techniques have been studied (see [here](#triads)) but the following seems to give the best compromise between easy implementation and low computationnal complexity. "
   ]
  },
  {
   "cell_type": "code",
   "execution_count": 14,
   "metadata": {},
   "outputs": [],
   "source": [
    "def number_of_triads(dataframe):\n",
    "    \"\"\" Calculate number of triads in a directed graph \"\"\"\n",
    "    \n",
    "    global results_table1\n",
    "    \n",
    "    # Create graph for the data\n",
    "    G = nx.DiGraph()\n",
    "    G.add_weighted_edges_from(map(tuple,dataframe.values))\n",
    "    \n",
    "    # Save an undirected version of the graph for neighbors search\n",
    "    G_undirected = G.to_undirected()\n",
    "\n",
    "    # Algorithm for counting triads with neighbor chain search\n",
    "    n = 0\n",
    "    # For each node\n",
    "    for node in list(G_undirected.nodes()):\n",
    "        neighbor_done = []\n",
    "        # Iterate through node neighbors\n",
    "        for neighbor in nx.neighbors(G_undirected,node):\n",
    "            # Avoids self-loops\n",
    "            if neighbor != node:\n",
    "                # Avoids itterating multiple times the same triad\n",
    "                neighbor_done.append(neighbor)\n",
    "                # Iterate through common neighbors of the node and the neighbor\n",
    "                for common in nx.common_neighbors(G_undirected,node,neighbor):\n",
    "                    if common not in neighbor_done:\n",
    "                        # Formula: 2^(sum of all directed edges in triad - 3)\n",
    "                        n += 2**(sum([perm in G.edges() for perm in permutations([node,neighbor,common],2)])-3)\n",
    "        # Avoids going through same triads twice and greatly diminish complexity \n",
    "        G_undirected.remove_node(node)\n",
    "    \n",
    "    # Save results\n",
    "    results_table1[dataframe.columns.name]['Triads'] = \"{:,}\".format(n)"
   ]
  },
  {
   "cell_type": "markdown",
   "metadata": {},
   "source": [
    "In this algorithm, we iterate through each node and each of their neighbors. We use the undirected graph version for iterating throught nodes, neighbors and common neighbors as it is faster, easier and that we simply don't need the directed graph for these steps. Once we find a triangle, then we look at the corresponding nodes in the directed graph as the nodes don't change from undirected to directed. So, we then look how many edges connect all these three nodes in the directed graph. We can have between 3 and 6 edges (2 maximum between 2 nodes) connecting 3 nodes and each edge added between the nodes multiplies the possible number of triangle by 2 (3 edges: 1 triad, 4 edges: 2 triads, 5 edges: 4 triads, 6 edges: 8 triads). \n",
    "\n",
    "So the formula for the number of triads in a group of 3 nodes becomes: \n",
    "$$n = 2^{\\sum (edges)  - 3}$$\n",
    "\n",
    "The last step is to remove the treated node so that triads are not calculated twice and that the computational complexity diminishes."
   ]
  },
  {
   "cell_type": "code",
   "execution_count": 15,
   "metadata": {},
   "outputs": [
    {
     "name": "stdout",
     "output_type": "stream",
     "text": [
      "CPU times: user 4min 43s, sys: 477 ms, total: 4min 44s\n",
      "Wall time: 4min 44s\n"
     ]
    }
   ],
   "source": [
    "# 2.4 GHz CPU\n",
    "%time number_of_triads(epinions)"
   ]
  },
  {
   "cell_type": "code",
   "execution_count": 16,
   "metadata": {},
   "outputs": [
    {
     "name": "stdout",
     "output_type": "stream",
     "text": [
      "CPU times: user 1min 46s, sys: 171 ms, total: 1min 46s\n",
      "Wall time: 1min 46s\n"
     ]
    }
   ],
   "source": [
    "%time number_of_triads(slashdot)"
   ]
  },
  {
   "cell_type": "code",
   "execution_count": 17,
   "metadata": {},
   "outputs": [
    {
     "name": "stdout",
     "output_type": "stream",
     "text": [
      "CPU times: user 20.9 s, sys: 35.3 ms, total: 20.9 s\n",
      "Wall time: 20.9 s\n"
     ]
    }
   ],
   "source": [
    "%time number_of_triads(wikielec)"
   ]
  },
  {
   "cell_type": "code",
   "execution_count": 18,
   "metadata": {},
   "outputs": [
    {
     "data": {
      "text/html": [
       "<div>\n",
       "<style scoped>\n",
       "    .dataframe tbody tr th:only-of-type {\n",
       "        vertical-align: middle;\n",
       "    }\n",
       "\n",
       "    .dataframe tbody tr th {\n",
       "        vertical-align: top;\n",
       "    }\n",
       "\n",
       "    .dataframe thead th {\n",
       "        text-align: right;\n",
       "    }\n",
       "</style>\n",
       "<table border=\"1\" class=\"dataframe\">\n",
       "  <thead>\n",
       "    <tr style=\"text-align: right;\">\n",
       "      <th>Paper results - Table 1</th>\n",
       "      <th>Epinions</th>\n",
       "      <th>Slashdot</th>\n",
       "      <th>Wikipedia</th>\n",
       "    </tr>\n",
       "  </thead>\n",
       "  <tbody>\n",
       "    <tr>\n",
       "      <th>Nodes</th>\n",
       "      <td>119,217</td>\n",
       "      <td>82,144</td>\n",
       "      <td>7,118</td>\n",
       "    </tr>\n",
       "    <tr>\n",
       "      <th>Edges</th>\n",
       "      <td>841,200</td>\n",
       "      <td>549,202</td>\n",
       "      <td>103,747</td>\n",
       "    </tr>\n",
       "    <tr>\n",
       "      <th>+ edges</th>\n",
       "      <td>85.0%</td>\n",
       "      <td>77.4%</td>\n",
       "      <td>78.7%</td>\n",
       "    </tr>\n",
       "    <tr>\n",
       "      <th>- edges</th>\n",
       "      <td>15.0%</td>\n",
       "      <td>22.6%</td>\n",
       "      <td>21.2%</td>\n",
       "    </tr>\n",
       "    <tr>\n",
       "      <th>Triads</th>\n",
       "      <td>13,375,407</td>\n",
       "      <td>1,508,105</td>\n",
       "      <td>790,532</td>\n",
       "    </tr>\n",
       "  </tbody>\n",
       "</table>\n",
       "</div>"
      ],
      "text/plain": [
       "Paper results - Table 1    Epinions   Slashdot Wikipedia\n",
       "Nodes                       119,217     82,144     7,118\n",
       "Edges                       841,200    549,202   103,747\n",
       "+ edges                       85.0%      77.4%     78.7%\n",
       "- edges                       15.0%      22.6%     21.2%\n",
       "Triads                   13,375,407  1,508,105   790,532"
      ]
     },
     "metadata": {},
     "output_type": "display_data"
    },
    {
     "data": {
      "text/html": [
       "<div>\n",
       "<style scoped>\n",
       "    .dataframe tbody tr th:only-of-type {\n",
       "        vertical-align: middle;\n",
       "    }\n",
       "\n",
       "    .dataframe tbody tr th {\n",
       "        vertical-align: top;\n",
       "    }\n",
       "\n",
       "    .dataframe thead th {\n",
       "        text-align: right;\n",
       "    }\n",
       "</style>\n",
       "<table border=\"1\" class=\"dataframe\">\n",
       "  <thead>\n",
       "    <tr style=\"text-align: right;\">\n",
       "      <th>Replication results - Table 1</th>\n",
       "      <th>Epinions</th>\n",
       "      <th>Slashdot</th>\n",
       "      <th>Wikipedia</th>\n",
       "    </tr>\n",
       "  </thead>\n",
       "  <tbody>\n",
       "    <tr>\n",
       "      <th>Nodes</th>\n",
       "      <td>131,828</td>\n",
       "      <td>82,140</td>\n",
       "      <td>7,118</td>\n",
       "    </tr>\n",
       "    <tr>\n",
       "      <th>Edges</th>\n",
       "      <td>841,372</td>\n",
       "      <td>549,202</td>\n",
       "      <td>103,747</td>\n",
       "    </tr>\n",
       "    <tr>\n",
       "      <th>+ edges</th>\n",
       "      <td>85.3%</td>\n",
       "      <td>77.4%</td>\n",
       "      <td>78.8%</td>\n",
       "    </tr>\n",
       "    <tr>\n",
       "      <th>- edges</th>\n",
       "      <td>14.7%</td>\n",
       "      <td>22.6%</td>\n",
       "      <td>21.2%</td>\n",
       "    </tr>\n",
       "    <tr>\n",
       "      <th>Triads</th>\n",
       "      <td>13,317,672</td>\n",
       "      <td>1,508,105</td>\n",
       "      <td>790,532</td>\n",
       "    </tr>\n",
       "  </tbody>\n",
       "</table>\n",
       "</div>"
      ],
      "text/plain": [
       "Replication results - Table 1    Epinions   Slashdot Wikipedia\n",
       "Nodes                             131,828     82,140     7,118\n",
       "Edges                             841,372    549,202   103,747\n",
       "+ edges                             85.3%      77.4%     78.8%\n",
       "- edges                             14.7%      22.6%     21.2%\n",
       "Triads                         13,317,672  1,508,105   790,532"
      ]
     },
     "metadata": {},
     "output_type": "display_data"
    }
   ],
   "source": [
    "display(PAPER_RESULTS_TABLE1)\n",
    "display(results_table1)"
   ]
  },
  {
   "cell_type": "markdown",
   "metadata": {},
   "source": [
    "Finally, we have all the results. We obtain the exact same number of triads for `wikielec` and `slashdot` datasets as those in the paper. Despite having more nodes in our `epinions` dataset than that of the paper, we obtain a smaller number of triads. There may be a chance that the algorithm that we implemented has some issues and does not take into account all possible aspects of a graph. Otherwise, our `epinions` graph is simply more connected and forms more triangles.\n",
    "\n",
    "The complexity of the algorithm seems to be proportionnal to the number of edges for `wikielec` and `slashdot`. Indeed, `wikielec` has ~100k edges in 20 seconds, `slashdot` has approximatly 5 times more ~500k edges in 100 seconds. `epinions` seems to be a little longer with ~800k edges in 250 seconds."
   ]
  },
  {
   "cell_type": "markdown",
   "metadata": {},
   "source": [
    "<a id='Additional_research'></a>\n",
    "### Additional research\n",
    "\n",
    "This part explains intermediate steps before reaching the final results that we showed in the previous part."
   ]
  },
  {
   "cell_type": "markdown",
   "metadata": {},
   "source": [
    "#### Triads <a id='triads'></a>"
   ]
  },
  {
   "cell_type": "markdown",
   "metadata": {},
   "source": [
    "##### Connectivity\n",
    "This part shows how we wanted to take advantage of the connectivity algorithms proposed by `networkx` to discard elements that are not useful to calculate the triads. For example all connected components of less than 3 elements can be removed from the graph as they cannot form any triad. So we first check if G is connected. For that we need the undirected version of G only:"
   ]
  },
  {
   "cell_type": "code",
   "execution_count": 19,
   "metadata": {},
   "outputs": [
    {
     "name": "stdout",
     "output_type": "stream",
     "text": [
      "False\n"
     ]
    }
   ],
   "source": [
    "G = nx.DiGraph()\n",
    "G.add_weighted_edges_from(map(tuple,epinions.values))\n",
    "G_undirected = G.to_undirected()\n",
    "print(nx.is_connected(G_undirected))"
   ]
  },
  {
   "cell_type": "markdown",
   "metadata": {},
   "source": [
    "So the undirected graph isn't connected which means that the graph contains components that are not linked to other components in any way. Let's check how many components are there:"
   ]
  },
  {
   "cell_type": "code",
   "execution_count": 20,
   "metadata": {},
   "outputs": [
    {
     "name": "stdout",
     "output_type": "stream",
     "text": [
      "Number of connected components: 5816\n"
     ]
    }
   ],
   "source": [
    "nb_components = nx.number_connected_components(G_undirected)\n",
    "print(\"Number of connected components: %d\"%nb_components)"
   ]
  },
  {
   "cell_type": "markdown",
   "metadata": {},
   "source": [
    "That is a lot of components, let's now plot their sizes:"
   ]
  },
  {
   "cell_type": "code",
   "execution_count": 21,
   "metadata": {},
   "outputs": [
    {
     "data": {
      "image/png": "[encoded data removed]",
      "text/plain": [
       "<Figure size 1080x288 with 1 Axes>"
      ]
     },
     "metadata": {
      "needs_background": "light"
     },
     "output_type": "display_data"
    },
    {
     "name": "stdout",
     "output_type": "stream",
     "text": [
      "Size of biggest component: 119130\n"
     ]
    }
   ],
   "source": [
    "# List of all components sizes\n",
    "size_components = [len(c) for c in nx.connected_components(G_undirected)]\n",
    "#Plot\n",
    "plt.figure(figsize=(15,4))\n",
    "plt.scatter(np.arange(len(size_components)),np.log(size_components),s=7,color='darkblue')\n",
    "plt.ylabel(\"log(size of component)\")\n",
    "plt.xlabel(\"Component Id\")\n",
    "plt.show()\n",
    "print(\"Size of biggest component: %d\"%max(size_components))"
   ]
  },
  {
   "cell_type": "markdown",
   "metadata": {},
   "source": [
    "We see that we have a main (giant) component of size 119130 and many other smaller components. Let's now plot the number of components of each size **except for the giant component**."
   ]
  },
  {
   "cell_type": "code",
   "execution_count": 22,
   "metadata": {},
   "outputs": [
    {
     "data": {
      "image/png": "[encoded data removed]",
      "text/plain": [
       "<Figure size 720x360 with 1 Axes>"
      ]
     },
     "metadata": {
      "needs_background": "light"
     },
     "output_type": "display_data"
    }
   ],
   "source": [
    "size_components = [len(c) for c in nx.connected_components(G_undirected)]\n",
    "size_components = np.array(size_components)\n",
    "\n",
    "# Calculates the number of components for each size under 25 \n",
    "size_density = [sum(size_components==i) for i in np.unique(size_components) if i < 25]\n",
    "# Plot\n",
    "plt.figure(figsize=(10,5))\n",
    "plt.bar(np.unique(size_components)[:-1],size_density,log=True,width=0.5,color='darkblue')\n",
    "plt.xticks(np.unique(size_components)[:-1])\n",
    "plt.xlabel(\"Connected component size\")\n",
    "plt.ylabel(\"Number of components (log)\")\n",
    "plt.title(\"Density of components\")\n",
    "\n",
    "for i, v in enumerate(size_density):\n",
    "    plt.text(np.unique(size_components)[i],1.1*v,str(v),color='brown')\n",
    "\n",
    "plt.show()"
   ]
  },
  {
   "cell_type": "markdown",
   "metadata": {},
   "source": [
    "We see that we have 4694 components of size 2 and 248 components of size one that we can remove ! That's almost 4% of the nodes that we can discard before trying to find all triads (pre-processing)."
   ]
  },
  {
   "cell_type": "code",
   "execution_count": 23,
   "metadata": {},
   "outputs": [],
   "source": [
    "def number_of_triads_v2(data):\n",
    "    \"\"\" This function is a copy of function 'number_of_triads' \n",
    "        but components of size less than 3 are removed before \"\"\"\n",
    "    \n",
    "    G = nx.DiGraph()\n",
    "    G.add_weighted_edges_from(map(tuple,data.values))\n",
    "    G_undirected = G.to_undirected()\n",
    "    \n",
    "    # Removes components of size less than 3\n",
    "    small_components = []\n",
    "    for c in nx.connected_components(G_undirected):\n",
    "        # Components of size 1\n",
    "        if len(c) == 1:\n",
    "            small_components.append(list(c)[0])\n",
    "        # Components of size 2\n",
    "        if len(c) == 2:\n",
    "            l = list(c)\n",
    "            small_components.append(l[0])\n",
    "            small_components.append(l[1])\n",
    "\n",
    "    G_undirected.remove_nodes_from(small_components)\n",
    "    \n",
    "    # Same algorithm to calculate number of triads\n",
    "    n = 0\n",
    "    for node in list(G_undirected.nodes()):\n",
    "        neighbor_done = []\n",
    "        for neighbor in nx.neighbors(G_undirected,node):\n",
    "            if neighbor != node:\n",
    "                neighbor_done.append(neighbor)\n",
    "                for common in nx.common_neighbors(G_undirected,node,neighbor):\n",
    "                    if common not in neighbor_done:\n",
    "                        n += 2**(sum([perm in G.edges() for perm in permutations([node,neighbor,common],2)])-3)\n",
    "        G_undirected.remove_node(node)\n",
    "    print(n)"
   ]
  },
  {
   "cell_type": "code",
   "execution_count": 24,
   "metadata": {},
   "outputs": [
    {
     "name": "stdout",
     "output_type": "stream",
     "text": [
      "13317672\n",
      "CPU times: user 4min 40s, sys: 560 ms, total: 4min 41s\n",
      "Wall time: 4min 41s\n"
     ]
    }
   ],
   "source": [
    "%time number_of_triads_v2(epinions)"
   ]
  },
  {
   "cell_type": "markdown",
   "metadata": {},
   "source": [
    "Fortunately we get the same results of 13,317,672 triads. But the algorithm's running time isn't much different. This is due to the fact that the algorithm that we built before already discards small components (with few neighbors) very quickly and directly remove them from the graph. Here we go through all nodes multiple times: first we find the components, then we select the ones to discard, then remove them from the graph and finally run the algorithm. In the end, both techniques remain similar."
   ]
  },
  {
   "cell_type": "markdown",
   "metadata": {},
   "source": [
    "#### K-edge components"
   ]
  },
  {
   "cell_type": "markdown",
   "metadata": {},
   "source": [
    "Even better than looking at connectivity is to look at the k-edge components. K-edges components are the biggest components of the graph that you cannot disconnect when removing fewer than k edges. So, when counting triads, we can be sure that 2-edges components of size 1 won't be usefull. That means that all these components can be discarded (there are no components of size 2 by definition). "
   ]
  },
  {
   "cell_type": "markdown",
   "metadata": {},
   "source": [
    "The following graph gives an example of a 2-edges component segmentation. We can see that the node 4 cannot form any triads in any ways and the typical way to isolate this type of node is to use 2-edges components. We can see in the list above the graph that we can easily isolate the node 4 as it is the only component of size 1. So the idea is to remove all nodes in 2-edges components of size 1."
   ]
  },
  {
   "cell_type": "code",
   "execution_count": 25,
   "metadata": {},
   "outputs": [
    {
     "name": "stdout",
     "output_type": "stream",
     "text": [
      "[{0, 1, 2, 3}, {4}, {8, 9, 10}, {5, 6, 7}]\n"
     ]
    },
    {
     "data": {
      "image/png": "[encoded data removed]",
      "text/plain": [
       "<Figure size 432x288 with 1 Axes>"
      ]
     },
     "metadata": {},
     "output_type": "display_data"
    }
   ],
   "source": [
    "G_example = nx.Graph()\n",
    "G_example.add_edges_from([(1,0),(3,2),(0,3),(0,1),(1,2),(2,0),(2,3),(3,0),(3,4),\n",
    "                          (4,8),(9,8),(9,10),(8,10),(4,5),(5,6),(6,7),(7,5)])\n",
    "nx.draw(G_example,with_labels=True)\n",
    "print(list(nx.k_edge_components(G_example,2)))"
   ]
  },
  {
   "cell_type": "markdown",
   "metadata": {},
   "source": [
    "So, just as we did for the connected components, we can plot the number of 2-edges components of each size. Note that we directly discard the giant 2-edges component."
   ]
  },
  {
   "cell_type": "code",
   "execution_count": 26,
   "metadata": {},
   "outputs": [
    {
     "data": {
      "image/png": "[encoded data removed]",
      "text/plain": [
       "<Figure size 720x360 with 1 Axes>"
      ]
     },
     "metadata": {
      "needs_background": "light"
     },
     "output_type": "display_data"
    }
   ],
   "source": [
    "size_components = [len(c) for c in nx.k_edge_components(G_undirected,2)]\n",
    "size_components = np.array(size_components)\n",
    "\n",
    "# Calculates the number of components for each size under 25 \n",
    "size_density = [sum(size_components==i) for i in np.unique(size_components) if i < 25]\n",
    "# Plot\n",
    "plt.figure(figsize=(10,5))\n",
    "plt.bar(np.unique(size_components)[:-1],size_density,log=True,width=0.5,color='darkblue')\n",
    "plt.xticks(np.unique(size_components)[:-1])\n",
    "plt.xlabel(\"Connected component size\")\n",
    "plt.ylabel(\"Number of components (log)\")\n",
    "plt.title(\"Density of components\")\n",
    "\n",
    "for i, v in enumerate(size_density):\n",
    "    plt.text(np.unique(size_components)[i],1.1*v,str(v),color='brown')\n",
    "\n",
    "plt.show()"
   ]
  },
  {
   "cell_type": "code",
   "execution_count": 27,
   "metadata": {},
   "outputs": [],
   "source": [
    "def number_of_triads_v3(data):\n",
    "    \"\"\" This function is a copy of function 'number_of_triads' \n",
    "        but 2-edges components are removed before \"\"\"\n",
    "    \n",
    "    G = nx.DiGraph()\n",
    "    G.add_weighted_edges_from(map(tuple,data.values))\n",
    "    G_undirected = G.to_undirected()\n",
    "    \n",
    "    # Removes components of size less than 3\n",
    "    G_undirected.remove_nodes_from([list(c)[0] for c in nx.k_edge_components(G_undirected,2) if len(c)==1])\n",
    "    \n",
    "    # Same algorithm to calculate number of triads\n",
    "    n = 0\n",
    "    for node in list(G_undirected.nodes()):\n",
    "        neighbor_done = []\n",
    "        for neighbor in nx.neighbors(G_undirected,node):\n",
    "            if neighbor != node:\n",
    "                neighbor_done.append(neighbor)\n",
    "                for common in nx.common_neighbors(G_undirected,node,neighbor):\n",
    "                    if common not in neighbor_done:\n",
    "                        n += 2**(sum([perm in G.edges() for perm in permutations([node,neighbor,common],2)])-3)\n",
    "        G_undirected.remove_node(node)\n",
    "    print(n)"
   ]
  },
  {
   "cell_type": "code",
   "execution_count": 28,
   "metadata": {},
   "outputs": [
    {
     "name": "stdout",
     "output_type": "stream",
     "text": [
      "13317672\n",
      "CPU times: user 4min 27s, sys: 572 ms, total: 4min 28s\n",
      "Wall time: 4min 28s\n"
     ]
    }
   ],
   "source": [
    "%time number_of_triads_v3(epinions)"
   ]
  },
  {
   "cell_type": "markdown",
   "metadata": {},
   "source": [
    "Here again we obtain the same results and we see that removing 2-edges components during pre-processing makes the computing a little faster. But the number of operations remains similar so the difference is not big. "
   ]
  },
  {
   "cell_type": "markdown",
   "metadata": {},
   "source": [
    "##### Reciprocity\n",
    "\n",
    "We also tried a last technique where we calculated reciprocal edges in the directed graph. The idea is the following. First, we wanted to take advantage of the `triangle` function offered by `networkx` which is pretty fast. The problem is that this function is only available for undirected graphs. So the idea was to isolate the reciprocal edges and then count the new triads based on those reciprocal edges only. Then we could add the new triads to the number of triangles that we found with the undirected graph. We abandonned this idea because it's actually at least as hard to implement as the algorithm we proposed before. It would only be benefic if the number of dirceted triads was not as large as it is compared to the number of undirected triangles."
   ]
  },
  {
   "cell_type": "code",
   "execution_count": 29,
   "metadata": {},
   "outputs": [
    {
     "name": "stdout",
     "output_type": "stream",
     "text": [
      "Number of reciprocals pairs: 129589\n"
     ]
    }
   ],
   "source": [
    "# Computes the number of reciprocals pairs with numpy by sorting \n",
    "# them along columns and taking the unique values of the result\n",
    "nb_reciprocal_pairs = epinions.values.shape[0] - np.unique(np.sort(epinions.values[:,:2]),axis=0).shape[0]\n",
    "print(\"Number of reciprocals pairs: %d\"%nb_reciprocal_pairs)"
   ]
  },
  {
   "cell_type": "markdown",
   "metadata": {},
   "source": [
    "##### Number of nodes and edges"
   ]
  },
  {
   "cell_type": "markdown",
   "metadata": {},
   "source": [
    "Here we explain different methods to calculate trivial information to double check our results. We double check `epinions` only."
   ]
  },
  {
   "cell_type": "code",
   "execution_count": 30,
   "metadata": {},
   "outputs": [
    {
     "name": "stdout",
     "output_type": "stream",
     "text": [
      "Number of edges:\n",
      "841372\n",
      "841372\n"
     ]
    }
   ],
   "source": [
    "# 2 ways of calcualting the number of edges\n",
    "print(\"Number of edges:\")\n",
    "print(G.number_of_edges())\n",
    "print(epinions.values.shape[0])"
   ]
  },
  {
   "cell_type": "code",
   "execution_count": 31,
   "metadata": {},
   "outputs": [
    {
     "name": "stdout",
     "output_type": "stream",
     "text": [
      "Number of nodes:\n",
      "131828\n",
      "131828\n"
     ]
    }
   ],
   "source": [
    "# 2 ways of calcualting the number of nodes\n",
    "print(\"Number of nodes:\")\n",
    "print(G.number_of_nodes())\n",
    "print(np.unique(epinions.values[:,:2]).shape[0])"
   ]
  },
  {
   "cell_type": "code",
   "execution_count": 32,
   "metadata": {},
   "outputs": [
    {
     "name": "stdout",
     "output_type": "stream",
     "text": [
      "Number of selfloops:\n",
      "573\n",
      "573\n"
     ]
    }
   ],
   "source": [
    "# 2 ways of calcualting the number of selfloops\n",
    "print(\"Number of selfloops:\")\n",
    "print(nx.number_of_selfloops(G))\n",
    "print((epinions['From node']==epinions['To node']).sum())"
   ]
  },
  {
   "cell_type": "code",
   "execution_count": 33,
   "metadata": {},
   "outputs": [
    {
     "name": "stdout",
     "output_type": "stream",
     "text": [
      "Number of +1 weights:\n",
      "717667\n",
      "717667\n"
     ]
    }
   ],
   "source": [
    "# 2 ways of calculating the number of + signs in dataset\n",
    "print(\"Number of +1 weights:\")\n",
    "print(len([(u,v,w) for (u,v,w) in G.edges(data='weight') if w== 1]))\n",
    "print(sum(epinions['Weight']==1))"
   ]
  },
  {
   "cell_type": "code",
   "execution_count": 34,
   "metadata": {},
   "outputs": [
    {
     "name": "stdout",
     "output_type": "stream",
     "text": [
      "Number of -1 weights:\n",
      "123705\n",
      "123705\n"
     ]
    }
   ],
   "source": [
    "# 2 ways of calculating the number of - signs in dataset\n",
    "print(\"Number of -1 weights:\")\n",
    "print(len([(u,v,w) for (u,v,w) in G.edges(data='weight') if w==-1]))\n",
    "print(sum(epinions['Weight']==-1))"
   ]
  },
  {
   "cell_type": "markdown",
   "metadata": {},
   "source": [
    "#### Wikipedia's percentage of +1 weights <a id='wiki'></a>\n",
    "Here we check the intervals of signs percentages that we could find when taking different duplicates that have different weights. We have 617 edges that have a duplicated edge with an opposite weight. First we take the interval of percentages where the 617 duplicated edges with negative signs are chosen and then with positive signs."
   ]
  },
  {
   "cell_type": "code",
   "execution_count": 35,
   "metadata": {},
   "outputs": [
    {
     "name": "stdout",
     "output_type": "stream",
     "text": [
      "Possible interval of percentage of positive signs: [78.3 ; 78.9]%\n",
      "Possible interval of percentage of negative signs: [21.1 ; 21.7]%\n",
      "\n",
      "Percentage of signs when data is shuffled:\n",
      "+ percent: 78.6\n",
      "- percent: 21.4\n"
     ]
    }
   ],
   "source": [
    "# First removes the totally duplicated edges\n",
    "wiki_test = wikielec[~wikielec.duplicated()]\n",
    "\n",
    "wiki_test = wiki_test.sort_values(by='Weight')\n",
    "\n",
    "# Select duplicates with negative weights only\n",
    "only_negative_duplicates = wiki_test[~wiki_test[['From node','To node']].duplicated(keep='first')]\n",
    "# Select duplicates with positive weights only\n",
    "only_positive_duplicates = wiki_test[~wiki_test[['From node','To node']].duplicated(keep='last')]\n",
    "\n",
    "# Find intervals limits\n",
    "min_negative = 100*sum(only_positive_duplicates['Weight']==-1)/only_positive_duplicates.shape[0]\n",
    "max_negative = 100*sum(only_negative_duplicates['Weight']==-1)/only_negative_duplicates.shape[0]\n",
    "min_positive = 100*sum(only_negative_duplicates['Weight']== 1)/only_negative_duplicates.shape[0]\n",
    "max_positive = 100*sum(only_positive_duplicates['Weight']== 1)/only_positive_duplicates.shape[0]\n",
    "\n",
    "print(\"Possible interval of percentage of positive signs: [%.1f ; %.1f]%%\"%(min_positive, max_positive))\n",
    "print(\"Possible interval of percentage of negative signs: [%.1f ; %.1f]%%\"%(min_negative, max_negative))\n",
    "\n",
    "# Shuffle rows\n",
    "wiki_test = wiki_test.sample(frac=1)\n",
    "random_duplicates = wiki_test[~wiki_test[['From node','To node']].duplicated()]\n",
    "print(\"\\nPercentage of signs when data is shuffled:\")\n",
    "print(\"+ percent: %.1f\"%(100*sum(random_duplicates['Weight']==1)/random_duplicates.shape[0]))\n",
    "print(\"- percent: %.1f\"%(100*sum(random_duplicates['Weight']==-1)/random_duplicates.shape[0]))"
   ]
  },
  {
   "cell_type": "markdown",
   "metadata": {},
   "source": [
    "First of all, we see that the replication results of 21.2% and 78.8% as well as the results in the paper are indeed in the possible intervals shown above. Second we see that when we shuffle the data, the resulting percentages are exactly in the middle of the intervals."
   ]
  },
  {
   "cell_type": "markdown",
   "metadata": {},
   "source": [
    "## Table 3 <a id='table3'></a>"
   ]
  },
  {
   "cell_type": "markdown",
   "metadata": {},
   "source": [
    "As we did for table 1, we build as reference table the paper's table 3 as well as our own table of the results that we found."
   ]
  },
  {
   "cell_type": "code",
   "execution_count": 36,
   "metadata": {},
   "outputs": [
    {
     "data": {
      "text/html": [
       "<div>\n",
       "<style scoped>\n",
       "    .dataframe tbody tr th:only-of-type {\n",
       "        vertical-align: middle;\n",
       "    }\n",
       "\n",
       "    .dataframe tbody tr th {\n",
       "        vertical-align: top;\n",
       "    }\n",
       "\n",
       "    .dataframe thead th {\n",
       "        text-align: right;\n",
       "    }\n",
       "</style>\n",
       "<table border=\"1\" class=\"dataframe\">\n",
       "  <thead>\n",
       "    <tr style=\"text-align: right;\">\n",
       "      <th></th>\n",
       "      <th>Paper Results - Table 3</th>\n",
       "      <th>|Ti|</th>\n",
       "      <th>p(Ti)</th>\n",
       "      <th>p0(Ti)</th>\n",
       "      <th>s(Ti)</th>\n",
       "    </tr>\n",
       "    <tr>\n",
       "      <th>Dataset</th>\n",
       "      <th>Triad Ti</th>\n",
       "      <th></th>\n",
       "      <th></th>\n",
       "      <th></th>\n",
       "      <th></th>\n",
       "    </tr>\n",
       "  </thead>\n",
       "  <tbody>\n",
       "    <tr>\n",
       "      <th rowspan=\"4\" valign=\"top\">Epinions</th>\n",
       "      <th>T3 + + +</th>\n",
       "      <td>11,640,257</td>\n",
       "      <td>0.870</td>\n",
       "      <td>0.621</td>\n",
       "      <td>1881.1</td>\n",
       "    </tr>\n",
       "    <tr>\n",
       "      <th>T1 + - -</th>\n",
       "      <td>947,855</td>\n",
       "      <td>0.071</td>\n",
       "      <td>0.055</td>\n",
       "      <td>249.4</td>\n",
       "    </tr>\n",
       "    <tr>\n",
       "      <th>T2 + + -</th>\n",
       "      <td>698,023</td>\n",
       "      <td>0.052</td>\n",
       "      <td>0.321</td>\n",
       "      <td>-2104.8</td>\n",
       "    </tr>\n",
       "    <tr>\n",
       "      <th>T0 - - -</th>\n",
       "      <td>89,272</td>\n",
       "      <td>0.007</td>\n",
       "      <td>0.003</td>\n",
       "      <td>227.5</td>\n",
       "    </tr>\n",
       "    <tr>\n",
       "      <th rowspan=\"4\" valign=\"top\">Slashdot</th>\n",
       "      <th>T3 + + +</th>\n",
       "      <td>1,266,646</td>\n",
       "      <td>0.840</td>\n",
       "      <td>0.464</td>\n",
       "      <td>926.5</td>\n",
       "    </tr>\n",
       "    <tr>\n",
       "      <th>T1 + - -</th>\n",
       "      <td>109,303</td>\n",
       "      <td>0.072</td>\n",
       "      <td>0.119</td>\n",
       "      <td>-175.2</td>\n",
       "    </tr>\n",
       "    <tr>\n",
       "      <th>T2 + + -</th>\n",
       "      <td>115,884</td>\n",
       "      <td>0.077</td>\n",
       "      <td>0.406</td>\n",
       "      <td>-823.5</td>\n",
       "    </tr>\n",
       "    <tr>\n",
       "      <th>T0 - - -</th>\n",
       "      <td>16,272</td>\n",
       "      <td>0.011</td>\n",
       "      <td>0.012</td>\n",
       "      <td>-8.7</td>\n",
       "    </tr>\n",
       "    <tr>\n",
       "      <th rowspan=\"4\" valign=\"top\">Wikipedia</th>\n",
       "      <th>T3 + + +</th>\n",
       "      <td>555,300</td>\n",
       "      <td>0.702</td>\n",
       "      <td>0.489</td>\n",
       "      <td>379.6</td>\n",
       "    </tr>\n",
       "    <tr>\n",
       "      <th>T1 + - -</th>\n",
       "      <td>163,328</td>\n",
       "      <td>0.207</td>\n",
       "      <td>0.106</td>\n",
       "      <td>289.1</td>\n",
       "    </tr>\n",
       "    <tr>\n",
       "      <th>T2 + + -</th>\n",
       "      <td>63,425</td>\n",
       "      <td>0.080</td>\n",
       "      <td>0.395</td>\n",
       "      <td>-572.6</td>\n",
       "    </tr>\n",
       "    <tr>\n",
       "      <th>T0 - - -</th>\n",
       "      <td>8,479</td>\n",
       "      <td>0.011</td>\n",
       "      <td>0.010</td>\n",
       "      <td>10.8</td>\n",
       "    </tr>\n",
       "  </tbody>\n",
       "</table>\n",
       "</div>"
      ],
      "text/plain": [
       "Paper Results - Table 3        |Ti|  p(Ti) p0(Ti)    s(Ti)\n",
       "Dataset   Triad Ti                                        \n",
       "Epinions  T3 + + +       11,640,257  0.870  0.621   1881.1\n",
       "          T1 + - -          947,855  0.071  0.055    249.4\n",
       "          T2 + + -          698,023  0.052  0.321  -2104.8\n",
       "          T0 - - -           89,272  0.007  0.003    227.5\n",
       "Slashdot  T3 + + +        1,266,646  0.840  0.464    926.5\n",
       "          T1 + - -          109,303  0.072  0.119   -175.2\n",
       "          T2 + + -          115,884  0.077  0.406   -823.5\n",
       "          T0 - - -           16,272  0.011  0.012     -8.7\n",
       "Wikipedia T3 + + +          555,300  0.702  0.489    379.6\n",
       "          T1 + - -          163,328  0.207  0.106    289.1\n",
       "          T2 + + -           63,425  0.080  0.395   -572.6\n",
       "          T0 - - -            8,479  0.011  0.010     10.8"
      ]
     },
     "metadata": {},
     "output_type": "display_data"
    },
    {
     "data": {
      "text/html": [
       "<div>\n",
       "<style scoped>\n",
       "    .dataframe tbody tr th:only-of-type {\n",
       "        vertical-align: middle;\n",
       "    }\n",
       "\n",
       "    .dataframe tbody tr th {\n",
       "        vertical-align: top;\n",
       "    }\n",
       "\n",
       "    .dataframe thead th {\n",
       "        text-align: right;\n",
       "    }\n",
       "</style>\n",
       "<table border=\"1\" class=\"dataframe\">\n",
       "  <thead>\n",
       "    <tr style=\"text-align: right;\">\n",
       "      <th></th>\n",
       "      <th>Replication results - Table 3</th>\n",
       "      <th>|Ti|</th>\n",
       "      <th>p(Ti)</th>\n",
       "      <th>p0(Ti)</th>\n",
       "      <th>s(Ti)</th>\n",
       "    </tr>\n",
       "    <tr>\n",
       "      <th>Dataset</th>\n",
       "      <th>Triad Ti</th>\n",
       "      <th></th>\n",
       "      <th></th>\n",
       "      <th></th>\n",
       "      <th></th>\n",
       "    </tr>\n",
       "  </thead>\n",
       "  <tbody>\n",
       "    <tr>\n",
       "      <th rowspan=\"4\" valign=\"top\">Epinions</th>\n",
       "      <th>T3 + + +</th>\n",
       "      <td></td>\n",
       "      <td></td>\n",
       "      <td></td>\n",
       "      <td></td>\n",
       "    </tr>\n",
       "    <tr>\n",
       "      <th>T1 + - -</th>\n",
       "      <td></td>\n",
       "      <td></td>\n",
       "      <td></td>\n",
       "      <td></td>\n",
       "    </tr>\n",
       "    <tr>\n",
       "      <th>T2 + + -</th>\n",
       "      <td></td>\n",
       "      <td></td>\n",
       "      <td></td>\n",
       "      <td></td>\n",
       "    </tr>\n",
       "    <tr>\n",
       "      <th>T0 - - -</th>\n",
       "      <td></td>\n",
       "      <td></td>\n",
       "      <td></td>\n",
       "      <td></td>\n",
       "    </tr>\n",
       "    <tr>\n",
       "      <th rowspan=\"4\" valign=\"top\">Slashdot</th>\n",
       "      <th>T3 + + +</th>\n",
       "      <td></td>\n",
       "      <td></td>\n",
       "      <td></td>\n",
       "      <td></td>\n",
       "    </tr>\n",
       "    <tr>\n",
       "      <th>T1 + - -</th>\n",
       "      <td></td>\n",
       "      <td></td>\n",
       "      <td></td>\n",
       "      <td></td>\n",
       "    </tr>\n",
       "    <tr>\n",
       "      <th>T2 + + -</th>\n",
       "      <td></td>\n",
       "      <td></td>\n",
       "      <td></td>\n",
       "      <td></td>\n",
       "    </tr>\n",
       "    <tr>\n",
       "      <th>T0 - - -</th>\n",
       "      <td></td>\n",
       "      <td></td>\n",
       "      <td></td>\n",
       "      <td></td>\n",
       "    </tr>\n",
       "    <tr>\n",
       "      <th rowspan=\"4\" valign=\"top\">Wikipedia</th>\n",
       "      <th>T3 + + +</th>\n",
       "      <td></td>\n",
       "      <td></td>\n",
       "      <td></td>\n",
       "      <td></td>\n",
       "    </tr>\n",
       "    <tr>\n",
       "      <th>T1 + - -</th>\n",
       "      <td></td>\n",
       "      <td></td>\n",
       "      <td></td>\n",
       "      <td></td>\n",
       "    </tr>\n",
       "    <tr>\n",
       "      <th>T2 + + -</th>\n",
       "      <td></td>\n",
       "      <td></td>\n",
       "      <td></td>\n",
       "      <td></td>\n",
       "    </tr>\n",
       "    <tr>\n",
       "      <th>T0 - - -</th>\n",
       "      <td></td>\n",
       "      <td></td>\n",
       "      <td></td>\n",
       "      <td></td>\n",
       "    </tr>\n",
       "  </tbody>\n",
       "</table>\n",
       "</div>"
      ],
      "text/plain": [
       "Replication results - Table 3 |Ti| p(Ti) p0(Ti) s(Ti)\n",
       "Dataset   Triad Ti                                   \n",
       "Epinions  T3 + + +                                   \n",
       "          T1 + - -                                   \n",
       "          T2 + + -                                   \n",
       "          T0 - - -                                   \n",
       "Slashdot  T3 + + +                                   \n",
       "          T1 + - -                                   \n",
       "          T2 + + -                                   \n",
       "          T0 - - -                                   \n",
       "Wikipedia T3 + + +                                   \n",
       "          T1 + - -                                   \n",
       "          T2 + + -                                   \n",
       "          T0 - - -                                   "
      ]
     },
     "metadata": {},
     "output_type": "display_data"
    }
   ],
   "source": [
    "# Constant dataframe for paper results\n",
    "iterables = [['Epinions', 'Slashdot', 'Wikipedia'], ['T3 + + +', 'T1 + - -', 'T2 + + -', 'T0 - - -']]\n",
    "\n",
    "PAPER_RESULTS_TABLE3 = pd.DataFrame(data= [['11,640,257', '0.870', '0.621', '1881.1' ],\n",
    "                                    ['947,855'   , '0.071', '0.055', '249.4'  ],\n",
    "                                    ['698,023'   , '0.052', '0.321', '-2104.8'],\n",
    "                                    ['89,272'    , '0.007', '0.003', '227.5'  ],\n",
    "                                    \n",
    "                                    ['1,266,646' , '0.840', '0.464', '926.5'  ],\n",
    "                                    ['109,303'   , '0.072', '0.119', '-175.2' ],\n",
    "                                    ['115,884'   , '0.077', '0.406', '-823.5' ],\n",
    "                                    ['16,272'    , '0.011', '0.012', '-8.7'   ],\n",
    "                                    \n",
    "                                    ['555,300'   , '0.702', '0.489', '379.6'  ],\n",
    "                                    ['163,328'   , '0.207', '0.106', '289.1'  ],\n",
    "                                    ['63,425'    , '0.080', '0.395', '-572.6' ],\n",
    "                                    ['8,479'     , '0.011', '0.010', '10.8'   ]],\n",
    "                             index=pd.MultiIndex.from_product(iterables, names=['Dataset', 'Triad Ti']), \n",
    "                             columns=['|Ti|', 'p(Ti)', 'p0(Ti)', 's(Ti)'])\\\n",
    "                            .rename_axis('Paper Results - Table 3',axis=1)\n",
    "\n",
    "# Global dataframe for replication results \n",
    "results_table3 = (PAPER_RESULTS_TABLE3*0).rename_axis('Replication results - Table 3',axis=1)\n",
    "\n",
    "# Display\n",
    "display(PAPER_RESULTS_TABLE3)\n",
    "display(results_table3)"
   ]
  },
  {
   "cell_type": "markdown",
   "metadata": {},
   "source": [
    "### Replication Results <a id='Replication_results3'></a>"
   ]
  },
  {
   "cell_type": "markdown",
   "metadata": {},
   "source": [
    "Firt of all, we can check that the total of different types of triads is equal to the total number of triads calculated in **Table 1**. Fortunately, we see that both are equal for each dataset."
   ]
  },
  {
   "cell_type": "code",
   "execution_count": 37,
   "metadata": {},
   "outputs": [
    {
     "data": {
      "text/html": [
       "<div>\n",
       "<style scoped>\n",
       "    .dataframe tbody tr th:only-of-type {\n",
       "        vertical-align: middle;\n",
       "    }\n",
       "\n",
       "    .dataframe tbody tr th {\n",
       "        vertical-align: top;\n",
       "    }\n",
       "\n",
       "    .dataframe thead th {\n",
       "        text-align: right;\n",
       "    }\n",
       "</style>\n",
       "<table border=\"1\" class=\"dataframe\">\n",
       "  <thead>\n",
       "    <tr style=\"text-align: right;\">\n",
       "      <th></th>\n",
       "      <th>Triads</th>\n",
       "    </tr>\n",
       "    <tr>\n",
       "      <th>Paper results - Table 1</th>\n",
       "      <th></th>\n",
       "    </tr>\n",
       "  </thead>\n",
       "  <tbody>\n",
       "    <tr>\n",
       "      <th>Epinions</th>\n",
       "      <td>13,375,407</td>\n",
       "    </tr>\n",
       "    <tr>\n",
       "      <th>Slashdot</th>\n",
       "      <td>1,508,105</td>\n",
       "    </tr>\n",
       "    <tr>\n",
       "      <th>Wikipedia</th>\n",
       "      <td>790,532</td>\n",
       "    </tr>\n",
       "  </tbody>\n",
       "</table>\n",
       "</div>"
      ],
      "text/plain": [
       "                             Triads\n",
       "Paper results - Table 1            \n",
       "Epinions                 13,375,407\n",
       "Slashdot                  1,508,105\n",
       "Wikipedia                   790,532"
      ]
     },
     "metadata": {},
     "output_type": "display_data"
    },
    {
     "data": {
      "text/html": [
       "<div>\n",
       "<style scoped>\n",
       "    .dataframe tbody tr th:only-of-type {\n",
       "        vertical-align: middle;\n",
       "    }\n",
       "\n",
       "    .dataframe tbody tr th {\n",
       "        vertical-align: top;\n",
       "    }\n",
       "\n",
       "    .dataframe thead th {\n",
       "        text-align: right;\n",
       "    }\n",
       "</style>\n",
       "<table border=\"1\" class=\"dataframe\">\n",
       "  <thead>\n",
       "    <tr style=\"text-align: right;\">\n",
       "      <th></th>\n",
       "      <th>sum( |Ti| )</th>\n",
       "    </tr>\n",
       "    <tr>\n",
       "      <th>Dataset</th>\n",
       "      <th></th>\n",
       "    </tr>\n",
       "  </thead>\n",
       "  <tbody>\n",
       "    <tr>\n",
       "      <th>Epinions</th>\n",
       "      <td>13375407</td>\n",
       "    </tr>\n",
       "    <tr>\n",
       "      <th>Slashdot</th>\n",
       "      <td>1508105</td>\n",
       "    </tr>\n",
       "    <tr>\n",
       "      <th>Wikipedia</th>\n",
       "      <td>790532</td>\n",
       "    </tr>\n",
       "  </tbody>\n",
       "</table>\n",
       "</div>"
      ],
      "text/plain": [
       "           sum( |Ti| )\n",
       "Dataset               \n",
       "Epinions      13375407\n",
       "Slashdot       1508105\n",
       "Wikipedia       790532"
      ]
     },
     "metadata": {},
     "output_type": "display_data"
    }
   ],
   "source": [
    "display(PAPER_RESULTS_TABLE1.loc['Triads'].to_frame())\n",
    "display(PAPER_RESULTS_TABLE3['|Ti|'].str.replace(',','').astype(int)\\\n",
    "                                    .sum(level='Dataset').rename('sum( |Ti| )').to_frame())"
   ]
  },
  {
   "cell_type": "markdown",
   "metadata": {},
   "source": [
    "The following function takes up the last algorithm `number_of_triads` that counted the number of triads in a directed graph. So, it first looks for a group of three nodes and then, instead of counting the number of triads among these three nodes like before, it lists all the edges and their weights and send them to `triad_type` function. This last function will then find all types of triads among these three nodes. The function automatically fill in the global table of our results at the end of the computation depending on the `permute` argument. If `permute` is true, that means that a dataframe with permuted weights was given as argument and we need to fill in `p0(Ti)` columns."
   ]
  },
  {
   "cell_type": "code",
   "execution_count": 38,
   "metadata": {},
   "outputs": [],
   "source": [
    "def triads(dataframe, permute=False):\n",
    "    \"\"\" Finds all groups of three nodes in a graph and lists all edges between these three nodes \"\"\"\n",
    "    \n",
    "    global results_table3\n",
    "    global d \n",
    "    \n",
    "    d = {\n",
    "        '+++':0,\n",
    "        '+--':0,\n",
    "        '++-':0,\n",
    "        '---':0\n",
    "        }\n",
    "\n",
    "    # Create graph for the data\n",
    "    G = nx.DiGraph()\n",
    "    G.add_weighted_edges_from(map(tuple, dataframe.values))\n",
    "\n",
    "    # Save an undirected version of the graph for neighbors search\n",
    "    G_undirected = G.to_undirected()\n",
    "\n",
    "    # For each node\n",
    "    for node in list(G_undirected.nodes()):\n",
    "        neighbor_done = []\n",
    "        # Iterate through node neighbors\n",
    "        for neighbor in nx.neighbors(G_undirected,node):\n",
    "            # Avoids self-loops\n",
    "            if neighbor != node:\n",
    "                # Avoids itterating multiple times the same triad\n",
    "                neighbor_done.append(neighbor)\n",
    "                # Iterate through common neighbors of the node and the neighbor\n",
    "                for common in nx.common_neighbors(G_undirected,node,neighbor):\n",
    "                    if common not in neighbor_done:\n",
    "                        # Get all edges with their weights in the 3 nodes subgraph\n",
    "                        triad_type([(u,v,G[u][v]['weight']) \n",
    "                                    for (u,v) in permutations([node,neighbor,common],2) if (u,v) in G.edges])\n",
    "        # Avoids going through same triads twice and greatly diminish complexity\n",
    "        G_undirected.remove_node(node)\n",
    "\n",
    "    # Save results\n",
    "    if permute == True:\n",
    "        results_table3.loc[dataframe.columns.name, 'p0(Ti)'] = np.array(list(d.values()))/sum(d.values())\n",
    "    else:    \n",
    "        results_table3.loc[dataframe.columns.name, '|Ti|']  = list(d.values())\n",
    "        results_table3.loc[dataframe.columns.name, 'p(Ti)'] = np.array(list(d.values()))/sum(d.values())"
   ]
  },
  {
   "cell_type": "markdown",
   "metadata": {},
   "source": [
    "So the following function finds all types of triads within the 3 given nodes. The global dictionnary `d` initialised in the previous function keeps track of the different types of triads. This function seems to be a lot for such a task but actually, only a couple lines would be ran each time the function is called (because it mostly contains conditions). The idea behind this function is that you can retrieve all different types of triads in a 3 nodes weighted (-1 and 1) and directed graph with at least 3 parameters:\n",
    "- Number of edges $n$\n",
    "- Sum of the weights $s$\n",
    "- List of reciprocal edges product $r$\n",
    "\n",
    "The following drawing shows an example of how the algorithm would behave with a given graph of 3 nodes."
   ]
  },
  {
   "cell_type": "code",
   "execution_count": 39,
   "metadata": {},
   "outputs": [
    {
     "data": {
      "image/png": "[encoded data removed]",
      "text/plain": [
       "<Figure size 432x288 with 1 Axes>"
      ]
     },
     "metadata": {},
     "output_type": "display_data"
    }
   ],
   "source": [
    "G = nx.DiGraph()\n",
    "G.add_weighted_edges_from([(0,1,-1),(1,2,1),(2,0,1),(0,2,-1),(1,0,-1)])\n",
    "nx.draw_shell(G, with_labels=True)"
   ]
  },
  {
   "cell_type": "markdown",
   "metadata": {},
   "source": [
    "The parameters would be the following:\n",
    "- $n=5$\n",
    "- $s=-1$\n",
    "- $r=[1,-1]$\n",
    "\n",
    "Note that the order of products in the $r$ list is of no importance. As $r$ is the list of reciprocal edges pair prodcuts, its length is equal to the number of reciprocal pairs of edges in the grapgh. So we could guess the number of edges in the graph based on the length of this list: \n",
    "\n",
    "$$n = len(r)+3$$\n",
    "\n",
    "So basically, we only need two parameters. In the example, we have two reciprocal pairs between nodes (0,2) and (0,1). The first reciprocal pair product of weights is equal to -1 and the second is equal to 1. \n",
    "\n",
    "So, following the algorithm, we can go to:\n",
    "\n",
    "$$n==5 \\rightarrow r[0]*r[1] < 0 \\rightarrow s==-1$$\n",
    "\n",
    "Note that the condition on products of elements in the $r$ list allows us to neglect the order of weights. Continuing on the algorithm, we see that that we need to add 2 triads of type ++- and 2 triads of type +-- which is exactly the types of triads that we find in the graph. Maybe the algorithm could have been condensed into a smaller one but there are many exceptions that make it hard to simplify. For example, the case where $n=4, r=[1], s=0$, needs an additonal information about the reciprocal edges in the pair (if both are -1 or both are 1). It is the only case where this information is needed. Compared to the previous algorithm which calculated the number of triads, this algorithm's running time increases of approximately 10%."
   ]
  },
  {
   "cell_type": "code",
   "execution_count": 40,
   "metadata": {},
   "outputs": [],
   "source": [
    "def triad_type(triad_edges):\n",
    "    \"\"\" Given all edges between three nodes, find all different types of triads between these three nodes \"\"\"\n",
    "    n = len(triad_edges)\n",
    "    s = sum([edge[-1] for edge in triad_edges])\n",
    "    r = []\n",
    "    \n",
    "    done = []\n",
    "    for (u,v,w) in triad_edges:\n",
    "        # Appends the reciprocal products withtout duplicating it\n",
    "        if (v,u,w) in triad_edges and (v,u,w) not in done:\n",
    "            r.append(1)\n",
    "            done.append((u,v,w))\n",
    "        if (v,u,-w) in triad_edges and (v,u,-w) not in done:\n",
    "            r.append(-1)\n",
    "            done.append((u,v,w))\n",
    "\n",
    "    if n == 3:\n",
    "        if len(r) != 0:\n",
    "            raise ValueError('must have no reciprocal pair of edges')\n",
    "        if s == 3:\n",
    "            d['+++'] += 1\n",
    "        elif s == 1:\n",
    "            d['++-'] += 1\n",
    "        elif s == -1:\n",
    "            d['+--'] += 1\n",
    "        elif s == -3:\n",
    "            d['---'] += 1\n",
    "        else:\n",
    "            raise ValueError('unvalid sum of weights for triad with 3 edges')\n",
    "            \n",
    "    elif n == 4:   \n",
    "        if len(r) != 1:\n",
    "            raise ValueError('must have one reciprocal pair of edges')\n",
    "        if r[0] == 1:\n",
    "            if s == 4:\n",
    "                d['+++'] += 2\n",
    "            elif s == 2:\n",
    "                d['++-'] += 2\n",
    "            elif s == 0:\n",
    "                for (u,v,w) in triad_edges:\n",
    "                    if (v,u,w) in triad_edges:\n",
    "                        if w == 1:\n",
    "                            d['+--'] += 1\n",
    "                        elif w == -1:\n",
    "                            d['++-'] += 1\n",
    "                        else:\n",
    "                            raise ValueError('unvalid weight')\n",
    "            elif s == -2:\n",
    "                d['+--'] += 2\n",
    "            elif s == -4:\n",
    "                d['---'] += 2\n",
    "            else:\n",
    "                raise ValueError('unvalid sum of weights for triad with 4 edges')\n",
    "        elif r[0] == -1:\n",
    "            if s == 2:\n",
    "                d['+++'] += 1\n",
    "                d['++-'] += 1\n",
    "            elif s == 0:\n",
    "                d['++-'] += 1\n",
    "                d['+--'] += 1\n",
    "            elif s == -2:\n",
    "                d['+--'] += 1\n",
    "                d['---'] += 1\n",
    "            else:\n",
    "                 raise ValueError('unvalid sum of weights for triad with 4 edges')\n",
    "        else:\n",
    "            raise ValueError('unvalid weight multiplication')\n",
    "                \n",
    "    elif n == 5:\n",
    "        if len(r) != 2:\n",
    "            raise ValueError('must have 2 reciprocal pairs of edges')\n",
    "        if r[0] == 1 and r[1] == 1:\n",
    "            if s == 5:\n",
    "                d['+++'] += 4\n",
    "            elif s == 3 or s == 1:\n",
    "                d['++-'] += 4\n",
    "            elif s == -1 or s == -3:\n",
    "                d['+--'] += 4\n",
    "            elif s == -5:\n",
    "                d['---'] += 4\n",
    "            else:\n",
    "                raise ValueError('unvalid sum of weights for triad with 5 edges')\n",
    "        elif (r[0]*r[1]) < 0:\n",
    "            if s == 3:\n",
    "                d['+++'] += 2\n",
    "                d['++-'] += 2\n",
    "            elif s == 1 or s == -1:\n",
    "                d['++-'] += 2\n",
    "                d['+--'] += 2\n",
    "            elif s == -3:\n",
    "                d['+--'] += 2\n",
    "                d['---'] += 2\n",
    "            else:\n",
    "                raise ValueError('unvalid sum of weights for triad with 5 edges')\n",
    "        elif  r[0] == -1 and r[1] == -1:\n",
    "            if s == 1:\n",
    "                d['+++'] += 1\n",
    "                d['++-'] += 2\n",
    "                d['+--'] += 1\n",
    "            elif s == -1:\n",
    "                d['++-'] += 1\n",
    "                d['+--'] += 2\n",
    "                d['---'] += 1\n",
    "            else:\n",
    "                raise ValueError('unvalid sum of weights for triad with 5 edges')\n",
    "        else:\n",
    "            raise ValueError('unvalid weight multiplication')\n",
    "            \n",
    "    elif n == 6:\n",
    "        if len(r) != 3:\n",
    "            raise ValueError('must have 3 reciprocal pairs of edges')\n",
    "        if r[0] == 1 and r[1] == 1 and r[2] == 1:\n",
    "            if s == 6:\n",
    "                d['+++'] += 8\n",
    "            elif s == 2:\n",
    "                d['++-'] += 8\n",
    "            elif s == -2:\n",
    "                d['+--'] += 8\n",
    "            elif s == -6:\n",
    "                d['---'] += 8\n",
    "            else:\n",
    "                raise ValueError('unvalid sum of weights for triad with 6 edges')\n",
    "        elif r[0] == -1 and r[1] == -1 and r[2] == -1:\n",
    "            if s == 0:\n",
    "                d['+++'] += 1\n",
    "                d['++-'] += 3\n",
    "                d['+--'] += 3\n",
    "                d['---'] += 1\n",
    "            else:\n",
    "                raise ValueError('unvalid sum of weights for triad with 6 edges')\n",
    "        elif (r[0]*r[1]*r[2]) > 0:\n",
    "            if s == 2:\n",
    "                d['+++'] += 2\n",
    "                d['++-'] += 4\n",
    "                d['+--'] += 2\n",
    "            elif s == -2:\n",
    "                d['++-'] += 2\n",
    "                d['+--'] += 4\n",
    "                d['---'] += 2\n",
    "            else:\n",
    "                raise ValueError('unvalid sum of weights for triad with 6 edges')\n",
    "        elif (r[0]*r[1]*r[2]) < 0:\n",
    "            if s == 4:\n",
    "                d['+++'] += 4\n",
    "                d['++-'] += 4         \n",
    "            elif s == 0:\n",
    "                d['++-'] += 4\n",
    "                d['+--'] += 4\n",
    "            elif s == -4:\n",
    "                d['+--'] += 4\n",
    "                d['---'] += 4\n",
    "            else:\n",
    "                raise ValueError('unvalid sum of weights for triad with 6 edges')   \n",
    "        else:\n",
    "            raise ValueError('unvalid weight multiplication')\n",
    "            \n",
    "    else:\n",
    "        raise ValueError('unvalid number of edges in a triad')\n",
    "        "
   ]
  },
  {
   "cell_type": "markdown",
   "metadata": {},
   "source": [
    "This last function permutes the weights of a dataframe:"
   ]
  },
  {
   "cell_type": "code",
   "execution_count": 41,
   "metadata": {},
   "outputs": [],
   "source": [
    "def permute_weights(dataframe):\n",
    "    \"\"\" Permute the weights of a given network \"\"\"\n",
    "    weight_permuted_df = dataframe.copy()\n",
    "    weight_permuted_df[\"Weight\"] = np.random.RandomState(seed=811).permutation(weight_permuted_df[\"Weight\"])\n",
    "    return weight_permuted_df"
   ]
  },
  {
   "cell_type": "markdown",
   "metadata": {},
   "source": [
    "#### Triad types"
   ]
  },
  {
   "cell_type": "markdown",
   "metadata": {},
   "source": [
    "Now, we can simply apply our `triads` function of each of the datasets."
   ]
  },
  {
   "cell_type": "code",
   "execution_count": 42,
   "metadata": {},
   "outputs": [
    {
     "name": "stdout",
     "output_type": "stream",
     "text": [
      "CPU times: user 5min 11s, sys: 495 ms, total: 5min 11s\n",
      "Wall time: 5min 11s\n"
     ]
    }
   ],
   "source": [
    "# Epinions\n",
    "%time triads(epinions)"
   ]
  },
  {
   "cell_type": "code",
   "execution_count": 43,
   "metadata": {},
   "outputs": [
    {
     "name": "stdout",
     "output_type": "stream",
     "text": [
      "CPU times: user 1min 48s, sys: 172 ms, total: 1min 49s\n",
      "Wall time: 1min 49s\n"
     ]
    }
   ],
   "source": [
    "# Slashdot\n",
    "%time triads(slashdot)"
   ]
  },
  {
   "cell_type": "code",
   "execution_count": 44,
   "metadata": {},
   "outputs": [
    {
     "name": "stdout",
     "output_type": "stream",
     "text": [
      "CPU times: user 24 s, sys: 35.6 ms, total: 24.1 s\n",
      "Wall time: 24.1 s\n"
     ]
    }
   ],
   "source": [
    "# Wikipedia\n",
    "%time triads(wikielec)"
   ]
  },
  {
   "cell_type": "markdown",
   "metadata": {},
   "source": [
    "#### Triads type - Permuted weights\n",
    "In the same way, we calculate the triad types when weights are permuted."
   ]
  },
  {
   "cell_type": "code",
   "execution_count": 45,
   "metadata": {},
   "outputs": [
    {
     "name": "stdout",
     "output_type": "stream",
     "text": [
      "CPU times: user 5min 11s, sys: 465 ms, total: 5min 11s\n",
      "Wall time: 5min 11s\n"
     ]
    }
   ],
   "source": [
    "# Epinions permute\n",
    "%time triads(permute_weights(epinions), permute=True)"
   ]
  },
  {
   "cell_type": "code",
   "execution_count": 46,
   "metadata": {},
   "outputs": [
    {
     "name": "stdout",
     "output_type": "stream",
     "text": [
      "CPU times: user 1min 49s, sys: 172 ms, total: 1min 50s\n",
      "Wall time: 1min 50s\n"
     ]
    }
   ],
   "source": [
    "# Slashdot permute\n",
    "%time triads(permute_weights(slashdot), permute=True)"
   ]
  },
  {
   "cell_type": "code",
   "execution_count": 47,
   "metadata": {},
   "outputs": [
    {
     "name": "stdout",
     "output_type": "stream",
     "text": [
      "CPU times: user 23.9 s, sys: 36.4 ms, total: 23.9 s\n",
      "Wall time: 23.9 s\n"
     ]
    }
   ],
   "source": [
    "# Wikipedia permute\n",
    "%time triads(permute_weights(wikielec), permute=True)"
   ]
  },
  {
   "cell_type": "markdown",
   "metadata": {},
   "source": [
    "#### Surprise"
   ]
  },
  {
   "cell_type": "code",
   "execution_count": 48,
   "metadata": {},
   "outputs": [],
   "source": [
    "# Surprise\n",
    "Ti = results_table3['|Ti|'].values\n",
    "p0Ti = results_table3['p0(Ti)'].values\n",
    "delta = np.repeat(results_table3['|Ti|'].sum(level='Dataset').values, 4, axis=0)\n",
    "E = delta*p0Ti\n",
    "\n",
    "results_table3['s(Ti)'] = (Ti - E)/np.sqrt((E*(1 - p0Ti)).astype(float))"
   ]
  },
  {
   "cell_type": "markdown",
   "metadata": {},
   "source": [
    "#### Display"
   ]
  },
  {
   "cell_type": "code",
   "execution_count": 49,
   "metadata": {},
   "outputs": [],
   "source": [
    "# Apply the same notation as in the paper\n",
    "results_table3['|Ti|'] = results_table3['|Ti|'].map(\"{:,}\".format)\n",
    "results_table3[['p(Ti)','p0(Ti)']] = results_table3[['p(Ti)','p0(Ti)']].applymap(\"{:.3f}\".format)\n",
    "results_table3['s(Ti)'] = results_table3['s(Ti)'].map(\"{:.1f}\".format)"
   ]
  },
  {
   "cell_type": "code",
   "execution_count": 50,
   "metadata": {},
   "outputs": [
    {
     "data": {
      "text/html": [
       "<div>\n",
       "<style scoped>\n",
       "    .dataframe tbody tr th:only-of-type {\n",
       "        vertical-align: middle;\n",
       "    }\n",
       "\n",
       "    .dataframe tbody tr th {\n",
       "        vertical-align: top;\n",
       "    }\n",
       "\n",
       "    .dataframe thead th {\n",
       "        text-align: right;\n",
       "    }\n",
       "</style>\n",
       "<table border=\"1\" class=\"dataframe\">\n",
       "  <thead>\n",
       "    <tr style=\"text-align: right;\">\n",
       "      <th></th>\n",
       "      <th>Paper Results - Table 3</th>\n",
       "      <th>|Ti|</th>\n",
       "      <th>p(Ti)</th>\n",
       "      <th>p0(Ti)</th>\n",
       "      <th>s(Ti)</th>\n",
       "    </tr>\n",
       "    <tr>\n",
       "      <th>Dataset</th>\n",
       "      <th>Triad Ti</th>\n",
       "      <th></th>\n",
       "      <th></th>\n",
       "      <th></th>\n",
       "      <th></th>\n",
       "    </tr>\n",
       "  </thead>\n",
       "  <tbody>\n",
       "    <tr>\n",
       "      <th rowspan=\"4\" valign=\"top\">Epinions</th>\n",
       "      <th>T3 + + +</th>\n",
       "      <td>11,640,257</td>\n",
       "      <td>0.870</td>\n",
       "      <td>0.621</td>\n",
       "      <td>1881.1</td>\n",
       "    </tr>\n",
       "    <tr>\n",
       "      <th>T1 + - -</th>\n",
       "      <td>947,855</td>\n",
       "      <td>0.071</td>\n",
       "      <td>0.055</td>\n",
       "      <td>249.4</td>\n",
       "    </tr>\n",
       "    <tr>\n",
       "      <th>T2 + + -</th>\n",
       "      <td>698,023</td>\n",
       "      <td>0.052</td>\n",
       "      <td>0.321</td>\n",
       "      <td>-2104.8</td>\n",
       "    </tr>\n",
       "    <tr>\n",
       "      <th>T0 - - -</th>\n",
       "      <td>89,272</td>\n",
       "      <td>0.007</td>\n",
       "      <td>0.003</td>\n",
       "      <td>227.5</td>\n",
       "    </tr>\n",
       "    <tr>\n",
       "      <th rowspan=\"4\" valign=\"top\">Slashdot</th>\n",
       "      <th>T3 + + +</th>\n",
       "      <td>1,266,646</td>\n",
       "      <td>0.840</td>\n",
       "      <td>0.464</td>\n",
       "      <td>926.5</td>\n",
       "    </tr>\n",
       "    <tr>\n",
       "      <th>T1 + - -</th>\n",
       "      <td>109,303</td>\n",
       "      <td>0.072</td>\n",
       "      <td>0.119</td>\n",
       "      <td>-175.2</td>\n",
       "    </tr>\n",
       "    <tr>\n",
       "      <th>T2 + + -</th>\n",
       "      <td>115,884</td>\n",
       "      <td>0.077</td>\n",
       "      <td>0.406</td>\n",
       "      <td>-823.5</td>\n",
       "    </tr>\n",
       "    <tr>\n",
       "      <th>T0 - - -</th>\n",
       "      <td>16,272</td>\n",
       "      <td>0.011</td>\n",
       "      <td>0.012</td>\n",
       "      <td>-8.7</td>\n",
       "    </tr>\n",
       "    <tr>\n",
       "      <th rowspan=\"4\" valign=\"top\">Wikipedia</th>\n",
       "      <th>T3 + + +</th>\n",
       "      <td>555,300</td>\n",
       "      <td>0.702</td>\n",
       "      <td>0.489</td>\n",
       "      <td>379.6</td>\n",
       "    </tr>\n",
       "    <tr>\n",
       "      <th>T1 + - -</th>\n",
       "      <td>163,328</td>\n",
       "      <td>0.207</td>\n",
       "      <td>0.106</td>\n",
       "      <td>289.1</td>\n",
       "    </tr>\n",
       "    <tr>\n",
       "      <th>T2 + + -</th>\n",
       "      <td>63,425</td>\n",
       "      <td>0.080</td>\n",
       "      <td>0.395</td>\n",
       "      <td>-572.6</td>\n",
       "    </tr>\n",
       "    <tr>\n",
       "      <th>T0 - - -</th>\n",
       "      <td>8,479</td>\n",
       "      <td>0.011</td>\n",
       "      <td>0.010</td>\n",
       "      <td>10.8</td>\n",
       "    </tr>\n",
       "  </tbody>\n",
       "</table>\n",
       "</div>"
      ],
      "text/plain": [
       "Paper Results - Table 3        |Ti|  p(Ti) p0(Ti)    s(Ti)\n",
       "Dataset   Triad Ti                                        \n",
       "Epinions  T3 + + +       11,640,257  0.870  0.621   1881.1\n",
       "          T1 + - -          947,855  0.071  0.055    249.4\n",
       "          T2 + + -          698,023  0.052  0.321  -2104.8\n",
       "          T0 - - -           89,272  0.007  0.003    227.5\n",
       "Slashdot  T3 + + +        1,266,646  0.840  0.464    926.5\n",
       "          T1 + - -          109,303  0.072  0.119   -175.2\n",
       "          T2 + + -          115,884  0.077  0.406   -823.5\n",
       "          T0 - - -           16,272  0.011  0.012     -8.7\n",
       "Wikipedia T3 + + +          555,300  0.702  0.489    379.6\n",
       "          T1 + - -          163,328  0.207  0.106    289.1\n",
       "          T2 + + -           63,425  0.080  0.395   -572.6\n",
       "          T0 - - -            8,479  0.011  0.010     10.8"
      ]
     },
     "metadata": {},
     "output_type": "display_data"
    },
    {
     "data": {
      "text/html": [
       "<div>\n",
       "<style scoped>\n",
       "    .dataframe tbody tr th:only-of-type {\n",
       "        vertical-align: middle;\n",
       "    }\n",
       "\n",
       "    .dataframe tbody tr th {\n",
       "        vertical-align: top;\n",
       "    }\n",
       "\n",
       "    .dataframe thead th {\n",
       "        text-align: right;\n",
       "    }\n",
       "</style>\n",
       "<table border=\"1\" class=\"dataframe\">\n",
       "  <thead>\n",
       "    <tr style=\"text-align: right;\">\n",
       "      <th></th>\n",
       "      <th>Replication results - Table 3</th>\n",
       "      <th>|Ti|</th>\n",
       "      <th>p(Ti)</th>\n",
       "      <th>p0(Ti)</th>\n",
       "      <th>s(Ti)</th>\n",
       "    </tr>\n",
       "    <tr>\n",
       "      <th>Dataset</th>\n",
       "      <th>Triad Ti</th>\n",
       "      <th></th>\n",
       "      <th></th>\n",
       "      <th></th>\n",
       "      <th></th>\n",
       "    </tr>\n",
       "  </thead>\n",
       "  <tbody>\n",
       "    <tr>\n",
       "      <th rowspan=\"4\" valign=\"top\">Epinions</th>\n",
       "      <th>T3 + + +</th>\n",
       "      <td>11,616,708</td>\n",
       "      <td>0.872</td>\n",
       "      <td>0.621</td>\n",
       "      <td>1890.2</td>\n",
       "    </tr>\n",
       "    <tr>\n",
       "      <th>T1 + - -</th>\n",
       "      <td>688,557</td>\n",
       "      <td>0.052</td>\n",
       "      <td>0.055</td>\n",
       "      <td>-55.2</td>\n",
       "    </tr>\n",
       "    <tr>\n",
       "      <th>T2 + + -</th>\n",
       "      <td>924,739</td>\n",
       "      <td>0.069</td>\n",
       "      <td>0.321</td>\n",
       "      <td>-1964.3</td>\n",
       "    </tr>\n",
       "    <tr>\n",
       "      <th>T0 - - -</th>\n",
       "      <td>87,668</td>\n",
       "      <td>0.007</td>\n",
       "      <td>0.003</td>\n",
       "      <td>220.7</td>\n",
       "    </tr>\n",
       "    <tr>\n",
       "      <th rowspan=\"4\" valign=\"top\">Slashdot</th>\n",
       "      <th>T3 + + +</th>\n",
       "      <td>1,266,646</td>\n",
       "      <td>0.840</td>\n",
       "      <td>0.461</td>\n",
       "      <td>934.5</td>\n",
       "    </tr>\n",
       "    <tr>\n",
       "      <th>T1 + - -</th>\n",
       "      <td>115,884</td>\n",
       "      <td>0.077</td>\n",
       "      <td>0.120</td>\n",
       "      <td>-163.6</td>\n",
       "    </tr>\n",
       "    <tr>\n",
       "      <th>T2 + + -</th>\n",
       "      <td>109,303</td>\n",
       "      <td>0.072</td>\n",
       "      <td>0.407</td>\n",
       "      <td>-837.2</td>\n",
       "    </tr>\n",
       "    <tr>\n",
       "      <th>T0 - - -</th>\n",
       "      <td>16,272</td>\n",
       "      <td>0.011</td>\n",
       "      <td>0.012</td>\n",
       "      <td>-11.3</td>\n",
       "    </tr>\n",
       "    <tr>\n",
       "      <th rowspan=\"4\" valign=\"top\">Wikipedia</th>\n",
       "      <th>T3 + + +</th>\n",
       "      <td>555,300</td>\n",
       "      <td>0.702</td>\n",
       "      <td>0.481</td>\n",
       "      <td>393.2</td>\n",
       "    </tr>\n",
       "    <tr>\n",
       "      <th>T1 + - -</th>\n",
       "      <td>63,425</td>\n",
       "      <td>0.080</td>\n",
       "      <td>0.110</td>\n",
       "      <td>-83.6</td>\n",
       "    </tr>\n",
       "    <tr>\n",
       "      <th>T2 + + -</th>\n",
       "      <td>163,328</td>\n",
       "      <td>0.207</td>\n",
       "      <td>0.399</td>\n",
       "      <td>-349.4</td>\n",
       "    </tr>\n",
       "    <tr>\n",
       "      <th>T0 - - -</th>\n",
       "      <td>8,479</td>\n",
       "      <td>0.011</td>\n",
       "      <td>0.010</td>\n",
       "      <td>7.8</td>\n",
       "    </tr>\n",
       "  </tbody>\n",
       "</table>\n",
       "</div>"
      ],
      "text/plain": [
       "Replication results - Table 3        |Ti|  p(Ti) p0(Ti)    s(Ti)\n",
       "Dataset   Triad Ti                                              \n",
       "Epinions  T3 + + +             11,616,708  0.872  0.621   1890.2\n",
       "          T1 + - -                688,557  0.052  0.055    -55.2\n",
       "          T2 + + -                924,739  0.069  0.321  -1964.3\n",
       "          T0 - - -                 87,668  0.007  0.003    220.7\n",
       "Slashdot  T3 + + +              1,266,646  0.840  0.461    934.5\n",
       "          T1 + - -                115,884  0.077  0.120   -163.6\n",
       "          T2 + + -                109,303  0.072  0.407   -837.2\n",
       "          T0 - - -                 16,272  0.011  0.012    -11.3\n",
       "Wikipedia T3 + + +                555,300  0.702  0.481    393.2\n",
       "          T1 + - -                 63,425  0.080  0.110    -83.6\n",
       "          T2 + + -                163,328  0.207  0.399   -349.4\n",
       "          T0 - - -                  8,479  0.011  0.010      7.8"
      ]
     },
     "metadata": {},
     "output_type": "display_data"
    }
   ],
   "source": [
    "# Display\n",
    "display(PAPER_RESULTS_TABLE3)\n",
    "display(results_table3)"
   ]
  },
  {
   "cell_type": "markdown",
   "metadata": {},
   "source": [
    "### Discussion <a id='Discussion'></a>\n",
    "##### Types and probabilities\n",
    "What is evident at first glance is that some rows are switched between what we found and the paper's results. If we look closer, what we see is that T1 and T2 triad types are switched but only the |Ti| and p(Ti) columns of our table (obviously p(Ti) as it is directly linked to |Ti|). How to be sure that we didn't make a mistake ? A first clue is that we found the exact same number of triad types for `slashdot`and `wikielec` datasets and that only T1 and T2 are switched. If we had made a mistake, it would very unlikely that these numbers of triad types were the exact same. Another clue is that the p0(Ti) columns gives very similar results. Of course these results are not the exact same because of the random permutation of the weights. Based on these two clues, we can quite confidently assess that there were a mistake in the paper. Also the number of triad types for `epinions` are not the exact same like the ones of the other datasets because of the different number of edges and nodes that we found previsously. \n",
    "\n",
    "##### Surprise\n",
    "Lastly, we can see that the surprises that we found are also close to the paper ones, except for triad types T1 and T2 because we use these switched types but with the right p0(Ti). For example, if we take `Wikipedia` dataset, the surprise of the paper for T1 is 289.1 when it is -83.6 in our results. Note also that even if we have the exact same results for |Ti|, p(Ti) and p0(Ti) as for the type T0 of `Wikipedia`, the surprise is still not the same (10.8 vs 7.8). This is most likely due to the rounding of results. Indeed, the surprise is very sensible to small changes and different approximations of surprise parameters could lead to different results."
   ]
  }
 ],
 "metadata": {
  "kernelspec": {
   "display_name": "Python 3",
   "language": "python",
   "name": "python3"
  },
  "language_info": {
   "codemirror_mode": {
    "name": "ipython",
    "version": 3
   },
   "file_extension": ".py",
   "mimetype": "text/x-python",
   "name": "python",
   "nbconvert_exporter": "python",
   "pygments_lexer": "ipython3",
   "version": "3.8.2"
  }
 },
 "nbformat": 4,
 "nbformat_minor": 4
}
